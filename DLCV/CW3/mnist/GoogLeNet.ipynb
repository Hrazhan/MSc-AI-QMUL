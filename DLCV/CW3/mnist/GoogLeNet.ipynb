{
 "cells": [
  {
   "cell_type": "markdown",
   "id": "5556e2ba",
   "metadata": {},
   "source": [
    "\n",
    "### 1. Data reading\n"
   ]
  },
  {
   "cell_type": "markdown",
   "id": "3b90d779",
   "metadata": {},
   "source": [
    "\n",
    "First load and normalize our training and test data using `torchvision` .\n"
   ]
  },
  {
   "cell_type": "code",
   "execution_count": 1,
   "id": "4481a6a2",
   "metadata": {
    "execution": {
     "iopub.execute_input": "2022-05-12T20:56:42.397325Z",
     "iopub.status.busy": "2022-05-12T20:56:42.396279Z",
     "iopub.status.idle": "2022-05-12T20:56:44.312806Z",
     "shell.execute_reply": "2022-05-12T20:56:44.312006Z",
     "shell.execute_reply.started": "2022-05-12T20:56:42.396974Z"
    }
   },
   "outputs": [],
   "source": [
    "import torch\n",
    "import torch.nn as nn\n",
    "import torchvision\n",
    "import torchvision.datasets as datasets\n",
    "import torchvision.transforms as transforms\n",
    "import torch.nn.functional as F\n",
    "from torchsummary import summary\n",
    "from utils import show_examples, UnNormalize, train, plot_history, plot_confusion_matrix, compute_confusion_matrix"
   ]
  },
  {
   "cell_type": "code",
   "execution_count": 2,
   "id": "51c85684",
   "metadata": {
    "execution": {
     "iopub.execute_input": "2022-05-12T20:56:44.314827Z",
     "iopub.status.busy": "2022-05-12T20:56:44.314327Z",
     "iopub.status.idle": "2022-05-12T20:56:44.318917Z",
     "shell.execute_reply": "2022-05-12T20:56:44.318329Z",
     "shell.execute_reply.started": "2022-05-12T20:56:44.314802Z"
    }
   },
   "outputs": [],
   "source": [
    "transform = transforms.Compose([\n",
    "        transforms.Resize((32,32)),\n",
    "     transforms.RandomHorizontalFlip(),\n",
    "     transforms.ToTensor(),\n",
    "     transforms.Normalize(\n",
    "     (0.1307,), (0.3081,))\n",
    "]) "
   ]
  },
  {
   "cell_type": "code",
   "execution_count": 3,
   "id": "44af2659",
   "metadata": {
    "execution": {
     "iopub.execute_input": "2022-05-12T20:56:44.319875Z",
     "iopub.status.busy": "2022-05-12T20:56:44.319727Z",
     "iopub.status.idle": "2022-05-12T20:56:44.323451Z",
     "shell.execute_reply": "2022-05-12T20:56:44.322871Z",
     "shell.execute_reply.started": "2022-05-12T20:56:44.319857Z"
    }
   },
   "outputs": [],
   "source": [
    "Batch_Size = 64"
   ]
  },
  {
   "cell_type": "code",
   "execution_count": 4,
   "id": "9addcf45",
   "metadata": {
    "execution": {
     "iopub.execute_input": "2022-05-12T20:56:44.324477Z",
     "iopub.status.busy": "2022-05-12T20:56:44.324319Z",
     "iopub.status.idle": "2022-05-12T20:56:44.428128Z",
     "shell.execute_reply": "2022-05-12T20:56:44.427279Z",
     "shell.execute_reply.started": "2022-05-12T20:56:44.324459Z"
    }
   },
   "outputs": [],
   "source": [
    "trainset = datasets.MNIST(root='./data', train=True,download=True, transform=transform)\n",
    "testset = datasets.MNIST(root='./data',train=False,download=True,transform=transform)\n",
    "trainloader = torch.utils.data.DataLoader(trainset, batch_size=Batch_Size,shuffle=True, num_workers=2)\n",
    "testloader = torch.utils.data.DataLoader(testset, batch_size=Batch_Size,shuffle=True, num_workers=2)\n",
    "classes = ('0', '1', '2', '3', '4','5', '6', '7', '8', '9')"
   ]
  },
  {
   "cell_type": "markdown",
   "id": "592ad96c",
   "metadata": {},
   "source": [
    "\n",
    "### 2. View data (format, size, shape)\n"
   ]
  },
  {
   "cell_type": "code",
   "execution_count": 5,
   "id": "f7bfbd76",
   "metadata": {
    "execution": {
     "iopub.execute_input": "2022-05-12T20:56:44.431039Z",
     "iopub.status.busy": "2022-05-12T20:56:44.430359Z",
     "iopub.status.idle": "2022-05-12T20:56:44.436535Z",
     "shell.execute_reply": "2022-05-12T20:56:44.436045Z",
     "shell.execute_reply.started": "2022-05-12T20:56:44.431013Z"
    }
   },
   "outputs": [
    {
     "data": {
      "text/plain": [
       "['0 - zero',\n",
       " '1 - one',\n",
       " '2 - two',\n",
       " '3 - three',\n",
       " '4 - four',\n",
       " '5 - five',\n",
       " '6 - six',\n",
       " '7 - seven',\n",
       " '8 - eight',\n",
       " '9 - nine']"
      ]
     },
     "execution_count": 5,
     "metadata": {},
     "output_type": "execute_result"
    }
   ],
   "source": [
    "classes = trainset.classes\n",
    "classes"
   ]
  },
  {
   "cell_type": "code",
   "execution_count": 6,
   "id": "f6a7657e",
   "metadata": {
    "execution": {
     "iopub.execute_input": "2022-05-12T20:56:44.438363Z",
     "iopub.status.busy": "2022-05-12T20:56:44.437614Z",
     "iopub.status.idle": "2022-05-12T20:56:44.443935Z",
     "shell.execute_reply": "2022-05-12T20:56:44.442955Z",
     "shell.execute_reply.started": "2022-05-12T20:56:44.438330Z"
    }
   },
   "outputs": [
    {
     "data": {
      "text/plain": [
       "{'0 - zero': 0,\n",
       " '1 - one': 1,\n",
       " '2 - two': 2,\n",
       " '3 - three': 3,\n",
       " '4 - four': 4,\n",
       " '5 - five': 5,\n",
       " '6 - six': 6,\n",
       " '7 - seven': 7,\n",
       " '8 - eight': 8,\n",
       " '9 - nine': 9}"
      ]
     },
     "execution_count": 6,
     "metadata": {},
     "output_type": "execute_result"
    }
   ],
   "source": [
    "trainset.class_to_idx"
   ]
  },
  {
   "cell_type": "markdown",
   "id": "bd98832f",
   "metadata": {},
   "source": [
    "\n",
    "### Summarize:\n",
    "\n",
    "### 3. View pictures\n"
   ]
  },
  {
   "cell_type": "code",
   "execution_count": 7,
   "id": "3e8d69a9",
   "metadata": {
    "execution": {
     "iopub.execute_input": "2022-05-12T20:56:44.445635Z",
     "iopub.status.busy": "2022-05-12T20:56:44.445299Z",
     "iopub.status.idle": "2022-05-12T20:56:44.754318Z",
     "shell.execute_reply": "2022-05-12T20:56:44.753637Z",
     "shell.execute_reply.started": "2022-05-12T20:56:44.445576Z"
    }
   },
   "outputs": [
    {
     "data": {
      "image/png": "[encoded data removed]",
      "text/plain": [
       "<Figure size 432x288 with 1 Axes>"
      ]
     },
     "metadata": {
      "needs_background": "light"
     },
     "output_type": "display_data"
    }
   ],
   "source": [
    "import numpy as np\n",
    "import matplotlib.pyplot as plt\n",
    "plt.imshow(trainset.data[0], cmap=\"gray\")\n",
    "im ,label = iter(trainloader).next()"
   ]
  },
  {
   "cell_type": "code",
   "execution_count": 8,
   "id": "5ee8cb8b",
   "metadata": {
    "execution": {
     "iopub.execute_input": "2022-05-12T20:56:44.755802Z",
     "iopub.status.busy": "2022-05-12T20:56:44.755596Z",
     "iopub.status.idle": "2022-05-12T20:56:44.759906Z",
     "shell.execute_reply": "2022-05-12T20:56:44.759402Z",
     "shell.execute_reply.started": "2022-05-12T20:56:44.755778Z"
    }
   },
   "outputs": [],
   "source": [
    "def imshow(img):\n",
    "    img = img / 2 + 0.5\n",
    "    img = np.transpose(img.numpy(),(1,2,0))\n",
    "    plt.imshow(img)"
   ]
  },
  {
   "cell_type": "code",
   "execution_count": 9,
   "id": "4b9375bb",
   "metadata": {
    "execution": {
     "iopub.execute_input": "2022-05-12T20:56:44.760827Z",
     "iopub.status.busy": "2022-05-12T20:56:44.760667Z",
     "iopub.status.idle": "2022-05-12T20:56:44.853268Z",
     "shell.execute_reply": "2022-05-12T20:56:44.852720Z",
     "shell.execute_reply.started": "2022-05-12T20:56:44.760808Z"
    }
   },
   "outputs": [
    {
     "data": {
      "image/png": "[encoded data removed]",
      "text/plain": [
       "<Figure size 432x288 with 1 Axes>"
      ]
     },
     "metadata": {
      "needs_background": "light"
     },
     "output_type": "display_data"
    }
   ],
   "source": [
    "imshow(im[0])"
   ]
  },
  {
   "cell_type": "code",
   "execution_count": 10,
   "id": "eb66ccec",
   "metadata": {
    "execution": {
     "iopub.execute_input": "2022-05-12T20:56:44.854297Z",
     "iopub.status.busy": "2022-05-12T20:56:44.854128Z",
     "iopub.status.idle": "2022-05-12T20:56:44.858353Z",
     "shell.execute_reply": "2022-05-12T20:56:44.857861Z",
     "shell.execute_reply.started": "2022-05-12T20:56:44.854276Z"
    }
   },
   "outputs": [
    {
     "data": {
      "text/plain": [
       "torch.Size([1, 32, 32])"
      ]
     },
     "execution_count": 10,
     "metadata": {},
     "output_type": "execute_result"
    }
   ],
   "source": [
    "im[0].shape"
   ]
  },
  {
   "cell_type": "code",
   "execution_count": 11,
   "id": "1aaff9cf",
   "metadata": {
    "execution": {
     "iopub.execute_input": "2022-05-12T20:56:44.859235Z",
     "iopub.status.busy": "2022-05-12T20:56:44.859087Z",
     "iopub.status.idle": "2022-05-12T20:56:44.986505Z",
     "shell.execute_reply": "2022-05-12T20:56:44.985990Z",
     "shell.execute_reply.started": "2022-05-12T20:56:44.859217Z"
    }
   },
   "outputs": [
    {
     "name": "stderr",
     "output_type": "stream",
     "text": [
      "Clipping input data to the valid range for imshow with RGB data ([0..1] for floats or [0..255] for integers).\n"
     ]
    },
    {
     "data": {
      "image/png": "[encoded data removed]",
      "text/plain": [
       "<Figure size 576x864 with 1 Axes>"
      ]
     },
     "metadata": {
      "needs_background": "light"
     },
     "output_type": "display_data"
    }
   ],
   "source": [
    "plt.figure(figsize=(8,12))\n",
    "imshow(torchvision.utils.make_grid(im[:32]))"
   ]
  },
  {
   "cell_type": "markdown",
   "id": "012c8954",
   "metadata": {},
   "source": [
    "\n",
    "### 4. Define the network (GoogLeNet)\n"
   ]
  },
  {
   "cell_type": "markdown",
   "id": "faefab4a",
   "metadata": {
    "lang": "en"
   },
   "source": [
    "\n",
    "In order to avoid the problem of gradient disappearance caused by deep network training, the author also introduced two auxiliary classifiers. After the output of the third and sixth Inception modules, Softmax was performed and the loss was calculated. During training and the final loss of a and send back.\n",
    "\n",
    " Next, let&#39;s take a look at the auxiliary classifier structure. The two auxiliary classifier structures in the network are exactly the same, as shown in the following figure: \n",
    "\n",
    "![](https://img-blog.csdnimg.cn/216d41f8162b464c9d19ace3048506b8.png)\n",
    "\n",
    " Auxiliary Classifier:\n",
    "\n",
    "```\n",
    "第一层是一个平均池化下采样层，池化核大小为5x5，stride=3第二层是卷积层，卷积核大小为1x1，stride=1，卷积核个数是128第三层是全连接层，节点个数是1024第四层是全连接层，节点个数是1000（对应分类的类别个数）\n",
    "```\n",
    "\n",
    " The parameter amount of Inception v1 is 1/12 of AlexNet and 1/3 of VGGNet, which is suitable for processing large-scale data, especially for platforms with limited computing resources.\n",
    "\n",
    " **Inception v2**\n",
    "\n",
    " Based on the Inception v1 network, multiple Inception versions have subsequently appeared. Inception v2 further achieves more efficient computation through convolution decomposition and regularization, adds a BN layer, and uses two cascaded 3×3 convolutions to replace the 5×5 convolutions in the Inception v1 version, as shown in Figure 3.15 , which not only reduces the amount of convolution parameters, but also increases the nonlinear ability of the network. \n",
    "\n",
    "![](https://img-blog.csdnimg.cn/0b4e8ee0797b48c790041c69d02fed70.png)\n",
    "\n",
    " In addition to these two versions, Inception v3 and Inception v4 have been released in recent years.\n",
    "\n",
    " On the basis of Inception v2, Inception v3 uses the RMSProp optimizer, adds a 7×7 convolution to the auxiliary classifier part, and uses the label smoothing technique.\n",
    "\n",
    " Inception v4 combines the idea of Inception with the residual network, which significantly improves the training speed and model accuracy. The details of the module will not be described here. As for the landmark structure of the residual network, it is derived from the network ResNet in the next section.\n",
    "\n",
    " **This demo only shows the network structure of Inception v1.** If you are interested, you can try other network structures.\n"
   ]
  },
  {
   "cell_type": "markdown",
   "id": "cc7044b3",
   "metadata": {
    "lang": "fr"
   },
   "source": [
    "Afin d'éviter le problème de disparition du gradient causé par l'apprentissage profond du réseau, l'auteur a également introduit deux classificateurs auxiliaires. Après la sortie des troisième et sixième modules Inception, Softmax a été exécuté et la perte a été calculée. Pendant la formation et la perte finale d'un et renvoyer.\n",
    "\n",
    " Examinons ensuite la structure du classificateur auxiliaire. Les deux structures de classificateurs auxiliaires du réseau sont exactement les mêmes, comme illustré dans la figure suivante :\n",
    "\n",
    "![](https://img-blog.csdnimg.cn/216d41f8162b464c9d19ace3048506b8.png)\n",
    "\n",
    " Classificateur auxiliaire :\n",
    "\n",
    "```\n",
    "第一 层 是 一 个 平均 池化 下 采样层 ， 池化 核 大小 为 5x5 ， Stride = 3 第二 层 是 卷积层 ， 卷积核 大小 为 1x1 ， Stride = 1 ， 卷积 核 个数 是 128 第三层是全连接层，节点个数是1024第四层是全连接层，节点个数是1000（对应分类的类别个数）\n",
    "```\n",
    "\n",
    " La quantité de paramètres d'Inception v1 est de 1/12 d'AlexNet et de 1/3 de VGGNet, ce qui convient au traitement de données à grande échelle, en particulier pour les plates-formes aux ressources informatiques limitées.\n",
    "\n",
    " **Inception v2**\n",
    "\n",
    " Basé sur le réseau Inception v1, plusieurs versions d'Inception sont apparues par la suite. Inception v2 réalise en outre un calcul plus efficace grâce à la décomposition et à la régularisation de la convolution, ajoute une couche BN et utilise deux convolutions 3 × 3 en cascade pour remplacer les convolutions 5 × 5 dans la version Inception v1, comme le montre la figure 3.15 , ce qui non seulement réduit le quantité de paramètres de convolution, mais augmente également la capacité non linéaire du réseau.\n",
    "\n",
    "![](https://img-blog.csdnimg.cn/0b4e8ee0797b48c790041c69d02fed70.png)\n",
    "\n",
    " En plus de ces deux versions, Inception v3 et Inception v4 sont sorties ces dernières années.\n",
    "\n",
    " Sur la base d'Inception v2, Inception v3 utilise l'optimiseur RMSProp, ajoute une convolution 7×7 à la partie classificateur auxiliaire et utilise la technique de lissage des étiquettes.\n",
    "\n",
    " Inception v4 combine l'idée d'Inception avec le réseau résiduel, ce qui améliore considérablement la vitesse d'entraînement et la précision du modèle. Les détails du module ne seront pas décrits ici. Quant à la structure de repère du réseau résiduel, elle est dérivée du réseau ResNet dans la section suivante.\n",
    "\n",
    " **Cette démo ne montre que la structure réseau d'Inception v1.** Si vous êtes intéressé, vous pouvez essayer d'autres structures réseau."
   ]
  },
  {
   "cell_type": "code",
   "execution_count": 12,
   "id": "ee2358fc",
   "metadata": {
    "execution": {
     "iopub.execute_input": "2022-05-12T20:56:44.987977Z",
     "iopub.status.busy": "2022-05-12T20:56:44.987402Z",
     "iopub.status.idle": "2022-05-12T20:56:44.997855Z",
     "shell.execute_reply": "2022-05-12T20:56:44.997310Z",
     "shell.execute_reply.started": "2022-05-12T20:56:44.987953Z"
    }
   },
   "outputs": [],
   "source": [
    "device = 'cuda' if torch.cuda.is_available() else 'cpu'"
   ]
  },
  {
   "cell_type": "code",
   "execution_count": 13,
   "id": "cbcba1aa",
   "metadata": {
    "execution": {
     "iopub.execute_input": "2022-05-12T20:56:44.998850Z",
     "iopub.status.busy": "2022-05-12T20:56:44.998683Z",
     "iopub.status.idle": "2022-05-12T20:56:45.003643Z",
     "shell.execute_reply": "2022-05-12T20:56:45.003140Z",
     "shell.execute_reply.started": "2022-05-12T20:56:44.998829Z"
    },
    "lang": "en"
   },
   "outputs": [],
   "source": [
    "# Define a convolution plus a relu activation function and a batchnorm as a basic layer structure\n",
    "class BasicConv2d(nn.Module):\n",
    "    def __init__(self,in_channel, out_channel, kernel_size, stride=1, padding=0):\n",
    "        super(BasicConv2d,self).__init__()\n",
    "        self.conv = nn.Conv2d(in_channel, out_channel, kernel_size, stride, padding)\n",
    "        self.batch = nn.BatchNorm2d(out_channel)\n",
    "        self.relu = nn.ReLU(True)\n",
    "    def forward(self, x):\n",
    "        x = self.conv(x)\n",
    "        x = self.batch(x)\n",
    "        x = self.relu(x)\n",
    "        return x"
   ]
  },
  {
   "cell_type": "code",
   "execution_count": 14,
   "id": "43b8154c",
   "metadata": {
    "execution": {
     "iopub.execute_input": "2022-05-12T20:56:45.027516Z",
     "iopub.status.busy": "2022-05-12T20:56:45.026916Z",
     "iopub.status.idle": "2022-05-12T20:56:45.033645Z",
     "shell.execute_reply": "2022-05-12T20:56:45.033173Z",
     "shell.execute_reply.started": "2022-05-12T20:56:45.027488Z"
    },
    "lang": "en"
   },
   "outputs": [],
   "source": [
    "class Inception(nn.Module):\n",
    "    def __init__(self, in_channel, n1x1, n3x3red, n3x3, n5x5red, n5x5, pool_proj):\n",
    "        super(Inception, self).__init__()\n",
    "        \n",
    "        # first line\n",
    "        self.branch1x1 = BasicConv2d(in_channel, n1x1, 1)\n",
    "        \n",
    "        # second line\n",
    "        self.branch3x3 = nn.Sequential(\n",
    "            BasicConv2d(in_channel, n3x3red, 1),\n",
    "            BasicConv2d(n3x3red, n3x3, 3, padding=1)\n",
    "        )\n",
    "        \n",
    "        # third line\n",
    "        self.branch5x5 = nn.Sequential(\n",
    "            BasicConv2d(in_channel, n5x5red, 1),\n",
    "            BasicConv2d(n5x5red, n5x5, 5, padding=2)\n",
    "        )\n",
    "        \n",
    "        # Fourth line\n",
    "        self.branch_pool = nn.Sequential(\n",
    "            nn.MaxPool2d(kernel_size=3, stride=1, padding=1),\n",
    "            BasicConv2d(in_channel, pool_proj, 1)\n",
    "        )\n",
    "    def forward(self, x):\n",
    "        f1 = self.branch1x1(x)\n",
    "        f2 = self.branch3x3(x)\n",
    "        f3 = self.branch5x5(x)\n",
    "        f4 = self.branch_pool(x)\n",
    "        output = torch.cat((f1, f2, f3, f4), dim=1)\n",
    "        return output"
   ]
  },
  {
   "cell_type": "code",
   "execution_count": 15,
   "id": "ff24fcab",
   "metadata": {
    "execution": {
     "iopub.execute_input": "2022-05-12T20:56:45.034955Z",
     "iopub.status.busy": "2022-05-12T20:56:45.034402Z",
     "iopub.status.idle": "2022-05-12T20:56:45.039792Z",
     "shell.execute_reply": "2022-05-12T20:56:45.039369Z",
     "shell.execute_reply.started": "2022-05-12T20:56:45.034933Z"
    }
   },
   "outputs": [],
   "source": [
    "class InceptionAux(nn.Module):\n",
    "    def __init__(self, in_channel, num_classes):\n",
    "        super(InceptionAux, self).__init__()\n",
    "#         self.averagePool = nn.AvgPool2d(kernel_size=5, stride=3)\n",
    "        self.averagePool = nn.AvgPool2d(kernel_size=2)\n",
    "        self.conv = BasicConv2d(in_channel, 128, kernel_size=1)  # output[batch, 128, 4, 4]\n",
    "        \n",
    "        self.fc1 = nn.Sequential(\n",
    "#             nn.Linear(2048, 1024),\n",
    "            nn.Linear(128,64),\n",
    "            nn.ReLU(True)\n",
    "        )\n",
    "#         self.drop = nn.Dropout(0.5)\n",
    "#         self.fc2 = nn.Linear(1024, num_classes)\n",
    "        self.fc2 = nn.Linear(64, num_classes)\n",
    "    def forward(self, x):\n",
    "\n",
    "        x = self.averagePool(x)\n",
    "        x = self.conv(x)\n",
    "        x = torch.flatten(x, 1)\n",
    "        x = F.dropout(x, 0.5, training=self.training)\n",
    "        x = self.fc1(x)\n",
    "        x = F.dropout(x, 0.5, training=self.training)\n",
    "        x = self.fc2(x)\n",
    "        return x"
   ]
  },
  {
   "cell_type": "code",
   "execution_count": 16,
   "id": "54a252ba",
   "metadata": {
    "execution": {
     "iopub.execute_input": "2022-05-12T20:56:45.040923Z",
     "iopub.status.busy": "2022-05-12T20:56:45.040533Z",
     "iopub.status.idle": "2022-05-12T20:56:45.058768Z",
     "shell.execute_reply": "2022-05-12T20:56:45.058277Z",
     "shell.execute_reply.started": "2022-05-12T20:56:45.040903Z"
    }
   },
   "outputs": [
    {
     "name": "stdout",
     "output_type": "stream",
     "text": [
      "input shape: 1 x 32 x 32\n",
      "output shape: 256 x 32 x 32\n"
     ]
    }
   ],
   "source": [
    "test_net = Inception(1, 64, 48, 64, 64, 96, 32)\n",
    "test_x =torch.zeros(1, 1, 32, 32)\n",
    "print('input shape: {} x {} x {}'.format(test_x.shape[1], test_x.shape[2], test_x.shape[3]))\n",
    "test_y = test_net(test_x)\n",
    "print('output shape: {} x {} x {}'.format(test_y.shape[1], test_y.shape[2], test_y.shape[3]))"
   ]
  },
  {
   "cell_type": "code",
   "execution_count": 17,
   "id": "f63b744b",
   "metadata": {
    "execution": {
     "iopub.execute_input": "2022-05-12T20:56:45.060077Z",
     "iopub.status.busy": "2022-05-12T20:56:45.059768Z",
     "iopub.status.idle": "2022-05-12T20:56:45.076744Z",
     "shell.execute_reply": "2022-05-12T20:56:45.076268Z",
     "shell.execute_reply.started": "2022-05-12T20:56:45.060055Z"
    }
   },
   "outputs": [],
   "source": [
    "class GoogLeNet(nn.Module):\n",
    "    def __init__(self, in_channel, num_classes, aux_logits=False, verbose=False, init_weights=True):\n",
    "        super(GoogLeNet, self).__init__()\n",
    "        self.verbose = verbose\n",
    "        self.aux_logits = aux_logits\n",
    "        \n",
    "#         self.block1 = nn.Sequential(\n",
    "#             BasicConv2d(in_channel, out_channel=64, kernel=7, stride=2, padding=3),\n",
    "#             nn.MaxPool2d(3, 2, ceil_mode=True)\n",
    "#         )\n",
    "        \n",
    "#         self.block2 = nn.Sequential(\n",
    "#             BasicConv2d(64, 64, kernel=1),\n",
    "#             BasicConv2d(64, 192, kernel=3, padding=1),\n",
    "#             nn.MaxPool2d(3, 2, ceil_mode=True)\n",
    "#         )\n",
    "        \n",
    "#         self.block3 = nn.Sequential(\n",
    "#             inception(192, 64, 96, 128, 16, 32, 32),\n",
    "#             inception(256, 128, 128, 192, 32, 96, 64),\n",
    "#             nn.MaxPool2d(3, 2, ceil_mode=True)\n",
    "#         )\n",
    "        \n",
    "#         self.block4 = nn.Sequential(\n",
    "#             inception(480, 192, 96, 208, 16, 48, 64),\n",
    "#             inception(512, 160, 112, 224, 24, 64, 64),\n",
    "#             inception(512, 128, 128, 256, 24, 64, 64),\n",
    "#             inception(512, 112, 144, 288, 32, 64, 64),\n",
    "#             inception(528, 256, 160, 320, 32, 128, 128),\n",
    "#             nn.MaxPool2d(3, 2, ceil_mode=True)\n",
    "#         )\n",
    "        \n",
    "#         self.block5 = nn.Sequential(\n",
    "#             inception(832, 256, 160, 320, 32, 128, 128),\n",
    "#             inception(832, 384, 182, 384, 48, 128, 128),\n",
    "            \n",
    "#         )\n",
    "        # block1\n",
    "        self.conv1 = BasicConv2d(1, 64, kernel_size=7, stride=2, padding=3)\n",
    "        self.maxpool1 = nn.MaxPool2d(3, stride=2, ceil_mode=True)\n",
    "        # block2\n",
    "        self.conv2 = BasicConv2d(64, 64, kernel_size=1)\n",
    "        self.conv3 = BasicConv2d(64, 192, kernel_size=3, padding=1)\n",
    "        self.maxpool2 = nn.MaxPool2d(3, stride=2, ceil_mode=True)\n",
    "        # block3\n",
    "        self.inception3a = Inception(192, 64, 96, 128, 16, 32, 32)\n",
    "        self.inception3b = Inception(256, 128, 128, 192, 32, 96, 64)\n",
    "        self.maxpool3 = nn.MaxPool2d(3, stride=2, ceil_mode=True)\n",
    "        # block4\n",
    "        self.inception4a = Inception(480, 192, 96, 208, 16, 48, 64)\n",
    "        self.inception4b = Inception(512, 160, 112, 224, 24, 64, 64)\n",
    "        self.inception4c = Inception(512, 128, 128, 256, 24, 64, 64)\n",
    "        self.inception4d = Inception(512, 112, 144, 288, 32, 64, 64)\n",
    "        self.inception4e = Inception(528, 256, 160, 320, 32, 128, 128)\n",
    "        self.maxpool4 = nn.MaxPool2d(3, stride=2, ceil_mode=True)\n",
    "        # block5\n",
    "        self.inception5a = Inception(832, 256, 160, 320, 32, 128, 128)\n",
    "        self.inception5b = Inception(832, 384, 192, 384, 48, 128, 128)\n",
    "        \n",
    "        if self.aux_logits:\n",
    "            self.aux1 = InceptionAux(512, num_classes)\n",
    "            self.aux2 = InceptionAux(528, num_classes)\n",
    "        \n",
    "#         self.avgpool = nn.AvgPool2d(7)\n",
    "        self.avgpool = nn.AvgPool2d(1) # 对32x32 不一样\n",
    "        self.dropout = nn.Dropout(0.4)\n",
    "        self.classifier = nn.Linear(1024, num_classes)\n",
    "        if init_weights:\n",
    "            self._initialize_weights()\n",
    "        \n",
    "            \n",
    "    def forward(self, x):\n",
    "#         x = self.block1(x)\n",
    "        x = self.conv1(x)\n",
    "        x = self.maxpool1(x)\n",
    "        if self.verbose:\n",
    "            print('block 1 output: {}'.format(x.shape))\n",
    "#         x = self.block2(x)\n",
    "        x = self.conv2(x)\n",
    "        x = self.conv3(x)\n",
    "        x = self.maxpool2(x)\n",
    "        if self.verbose:\n",
    "            print('block 2 output: {}'.format(x.shape))\n",
    "#         x = self.block3(x)\n",
    "        x = self.inception3a(x)\n",
    "        x = self.inception3b(x)\n",
    "        x = self.maxpool3(x)\n",
    "        if self.verbose:\n",
    "            print('block 3 output: {}'.format(x.shape))\n",
    "#         x = self.block4(x)\n",
    "        x = self.inception4a(x)\n",
    "        if self.training and self.aux_logits:    # eval model lose this layer\n",
    "            aux1 = self.aux1(x)\n",
    "            if self.verbose:\n",
    "                print('aux 1 output: {}'.format(aux1.shape))\n",
    "            \n",
    "        x = self.inception4b(x)\n",
    "        x = self.inception4c(x)\n",
    "        x = self.inception4d(x)\n",
    "        if self.training and self.aux_logits:    # eval model lose this layer\n",
    "            aux2 = self.aux2(x)\n",
    "            if self.verbose:\n",
    "                print('aux 2 output: {}'.format(aux2.shape))\n",
    "        x = self.inception4e(x)\n",
    "        x = self.maxpool4(x)\n",
    "        if self.verbose:\n",
    "            print('block 4 output: {}'.format(x.shape))\n",
    "#         x = self.block5(x)\n",
    "        x = self.inception5a(x)\n",
    "        x = self.inception5b(x)\n",
    "        if self.verbose:\n",
    "            print('block 5 output: {}'.format(x.shape))\n",
    "        x = self.avgpool(x)\n",
    "        x = x.view(x.shape[0], -1)\n",
    "        x = self.dropout(x)\n",
    "        x = self.classifier(x)\n",
    "        if self.training and self.aux_logits:   # eval model lose this layer\n",
    "            return x, aux2, aux1\n",
    "        return x\n",
    "    \n",
    "    def _initialize_weights(self):\n",
    "        for m in self.modules():\n",
    "            if isinstance(m, nn.Conv2d):\n",
    "                nn.init.kaiming_normal_(m.weight, mode='fan_out', nonlinearity='relu')\n",
    "                if m.bias is not None:\n",
    "                    nn.init.constant_(m.bias, 0)\n",
    "            elif isinstance(m, nn.Linear):\n",
    "                nn.init.normal_(m.weight, 0, 0.01)\n",
    "                nn.init.constant_(m.bias, 0)"
   ]
  },
  {
   "cell_type": "code",
   "execution_count": 18,
   "id": "6e04e76b",
   "metadata": {
    "execution": {
     "iopub.execute_input": "2022-05-12T20:56:45.077558Z",
     "iopub.status.busy": "2022-05-12T20:56:45.077413Z",
     "iopub.status.idle": "2022-05-12T20:56:47.600218Z",
     "shell.execute_reply": "2022-05-12T20:56:47.599441Z",
     "shell.execute_reply.started": "2022-05-12T20:56:45.077539Z"
    }
   },
   "outputs": [],
   "source": [
    "net = GoogLeNet(1,10,aux_logits = True, verbose = False).to(device)"
   ]
  },
  {
   "cell_type": "code",
   "execution_count": 19,
   "id": "6441efc2",
   "metadata": {
    "execution": {
     "iopub.execute_input": "2022-05-12T20:56:47.601505Z",
     "iopub.status.busy": "2022-05-12T20:56:47.601312Z",
     "iopub.status.idle": "2022-05-12T20:56:49.968677Z",
     "shell.execute_reply": "2022-05-12T20:56:49.967880Z",
     "shell.execute_reply.started": "2022-05-12T20:56:47.601484Z"
    }
   },
   "outputs": [
    {
     "name": "stdout",
     "output_type": "stream",
     "text": [
      "----------------------------------------------------------------\n",
      "        Layer (type)               Output Shape         Param #\n",
      "================================================================\n",
      "            Conv2d-1           [-1, 64, 16, 16]           3,200\n",
      "       BatchNorm2d-2           [-1, 64, 16, 16]             128\n",
      "              ReLU-3           [-1, 64, 16, 16]               0\n",
      "       BasicConv2d-4           [-1, 64, 16, 16]               0\n",
      "         MaxPool2d-5             [-1, 64, 8, 8]               0\n",
      "            Conv2d-6             [-1, 64, 8, 8]           4,160\n",
      "       BatchNorm2d-7             [-1, 64, 8, 8]             128\n",
      "              ReLU-8             [-1, 64, 8, 8]               0\n",
      "       BasicConv2d-9             [-1, 64, 8, 8]               0\n",
      "           Conv2d-10            [-1, 192, 8, 8]         110,784\n",
      "      BatchNorm2d-11            [-1, 192, 8, 8]             384\n",
      "             ReLU-12            [-1, 192, 8, 8]               0\n",
      "      BasicConv2d-13            [-1, 192, 8, 8]               0\n",
      "        MaxPool2d-14            [-1, 192, 4, 4]               0\n",
      "           Conv2d-15             [-1, 64, 4, 4]          12,352\n",
      "      BatchNorm2d-16             [-1, 64, 4, 4]             128\n",
      "             ReLU-17             [-1, 64, 4, 4]               0\n",
      "      BasicConv2d-18             [-1, 64, 4, 4]               0\n",
      "           Conv2d-19             [-1, 96, 4, 4]          18,528\n",
      "      BatchNorm2d-20             [-1, 96, 4, 4]             192\n",
      "             ReLU-21             [-1, 96, 4, 4]               0\n",
      "      BasicConv2d-22             [-1, 96, 4, 4]               0\n",
      "           Conv2d-23            [-1, 128, 4, 4]         110,720\n",
      "      BatchNorm2d-24            [-1, 128, 4, 4]             256\n",
      "             ReLU-25            [-1, 128, 4, 4]               0\n",
      "      BasicConv2d-26            [-1, 128, 4, 4]               0\n",
      "           Conv2d-27             [-1, 16, 4, 4]           3,088\n",
      "      BatchNorm2d-28             [-1, 16, 4, 4]              32\n",
      "             ReLU-29             [-1, 16, 4, 4]               0\n",
      "      BasicConv2d-30             [-1, 16, 4, 4]               0\n",
      "           Conv2d-31             [-1, 32, 4, 4]          12,832\n",
      "      BatchNorm2d-32             [-1, 32, 4, 4]              64\n",
      "             ReLU-33             [-1, 32, 4, 4]               0\n",
      "      BasicConv2d-34             [-1, 32, 4, 4]               0\n",
      "        MaxPool2d-35            [-1, 192, 4, 4]               0\n",
      "           Conv2d-36             [-1, 32, 4, 4]           6,176\n",
      "      BatchNorm2d-37             [-1, 32, 4, 4]              64\n",
      "             ReLU-38             [-1, 32, 4, 4]               0\n",
      "      BasicConv2d-39             [-1, 32, 4, 4]               0\n",
      "        Inception-40            [-1, 256, 4, 4]               0\n",
      "           Conv2d-41            [-1, 128, 4, 4]          32,896\n",
      "      BatchNorm2d-42            [-1, 128, 4, 4]             256\n",
      "             ReLU-43            [-1, 128, 4, 4]               0\n",
      "      BasicConv2d-44            [-1, 128, 4, 4]               0\n",
      "           Conv2d-45            [-1, 128, 4, 4]          32,896\n",
      "      BatchNorm2d-46            [-1, 128, 4, 4]             256\n",
      "             ReLU-47            [-1, 128, 4, 4]               0\n",
      "      BasicConv2d-48            [-1, 128, 4, 4]               0\n",
      "           Conv2d-49            [-1, 192, 4, 4]         221,376\n",
      "      BatchNorm2d-50            [-1, 192, 4, 4]             384\n",
      "             ReLU-51            [-1, 192, 4, 4]               0\n",
      "      BasicConv2d-52            [-1, 192, 4, 4]               0\n",
      "           Conv2d-53             [-1, 32, 4, 4]           8,224\n",
      "      BatchNorm2d-54             [-1, 32, 4, 4]              64\n",
      "             ReLU-55             [-1, 32, 4, 4]               0\n",
      "      BasicConv2d-56             [-1, 32, 4, 4]               0\n",
      "           Conv2d-57             [-1, 96, 4, 4]          76,896\n",
      "      BatchNorm2d-58             [-1, 96, 4, 4]             192\n",
      "             ReLU-59             [-1, 96, 4, 4]               0\n",
      "      BasicConv2d-60             [-1, 96, 4, 4]               0\n",
      "        MaxPool2d-61            [-1, 256, 4, 4]               0\n",
      "           Conv2d-62             [-1, 64, 4, 4]          16,448\n",
      "      BatchNorm2d-63             [-1, 64, 4, 4]             128\n",
      "             ReLU-64             [-1, 64, 4, 4]               0\n",
      "      BasicConv2d-65             [-1, 64, 4, 4]               0\n",
      "        Inception-66            [-1, 480, 4, 4]               0\n",
      "        MaxPool2d-67            [-1, 480, 2, 2]               0\n",
      "           Conv2d-68            [-1, 192, 2, 2]          92,352\n",
      "      BatchNorm2d-69            [-1, 192, 2, 2]             384\n",
      "             ReLU-70            [-1, 192, 2, 2]               0\n",
      "      BasicConv2d-71            [-1, 192, 2, 2]               0\n",
      "           Conv2d-72             [-1, 96, 2, 2]          46,176\n",
      "      BatchNorm2d-73             [-1, 96, 2, 2]             192\n",
      "             ReLU-74             [-1, 96, 2, 2]               0\n",
      "      BasicConv2d-75             [-1, 96, 2, 2]               0\n",
      "           Conv2d-76            [-1, 208, 2, 2]         179,920\n",
      "      BatchNorm2d-77            [-1, 208, 2, 2]             416\n",
      "             ReLU-78            [-1, 208, 2, 2]               0\n",
      "      BasicConv2d-79            [-1, 208, 2, 2]               0\n",
      "           Conv2d-80             [-1, 16, 2, 2]           7,696\n",
      "      BatchNorm2d-81             [-1, 16, 2, 2]              32\n",
      "             ReLU-82             [-1, 16, 2, 2]               0\n",
      "      BasicConv2d-83             [-1, 16, 2, 2]               0\n",
      "           Conv2d-84             [-1, 48, 2, 2]          19,248\n",
      "      BatchNorm2d-85             [-1, 48, 2, 2]              96\n",
      "             ReLU-86             [-1, 48, 2, 2]               0\n",
      "      BasicConv2d-87             [-1, 48, 2, 2]               0\n",
      "        MaxPool2d-88            [-1, 480, 2, 2]               0\n",
      "           Conv2d-89             [-1, 64, 2, 2]          30,784\n",
      "      BatchNorm2d-90             [-1, 64, 2, 2]             128\n",
      "             ReLU-91             [-1, 64, 2, 2]               0\n",
      "      BasicConv2d-92             [-1, 64, 2, 2]               0\n",
      "        Inception-93            [-1, 512, 2, 2]               0\n",
      "        AvgPool2d-94            [-1, 512, 1, 1]               0\n",
      "           Conv2d-95            [-1, 128, 1, 1]          65,664\n",
      "      BatchNorm2d-96            [-1, 128, 1, 1]             256\n",
      "             ReLU-97            [-1, 128, 1, 1]               0\n",
      "      BasicConv2d-98            [-1, 128, 1, 1]               0\n",
      "           Linear-99                   [-1, 64]           8,256\n",
      "            ReLU-100                   [-1, 64]               0\n",
      "          Linear-101                   [-1, 10]             650\n",
      "    InceptionAux-102                   [-1, 10]               0\n",
      "          Conv2d-103            [-1, 160, 2, 2]          82,080\n",
      "     BatchNorm2d-104            [-1, 160, 2, 2]             320\n",
      "            ReLU-105            [-1, 160, 2, 2]               0\n",
      "     BasicConv2d-106            [-1, 160, 2, 2]               0\n",
      "          Conv2d-107            [-1, 112, 2, 2]          57,456\n",
      "     BatchNorm2d-108            [-1, 112, 2, 2]             224\n",
      "            ReLU-109            [-1, 112, 2, 2]               0\n",
      "     BasicConv2d-110            [-1, 112, 2, 2]               0\n",
      "          Conv2d-111            [-1, 224, 2, 2]         226,016\n",
      "     BatchNorm2d-112            [-1, 224, 2, 2]             448\n",
      "            ReLU-113            [-1, 224, 2, 2]               0\n",
      "     BasicConv2d-114            [-1, 224, 2, 2]               0\n",
      "          Conv2d-115             [-1, 24, 2, 2]          12,312\n",
      "     BatchNorm2d-116             [-1, 24, 2, 2]              48\n",
      "            ReLU-117             [-1, 24, 2, 2]               0\n",
      "     BasicConv2d-118             [-1, 24, 2, 2]               0\n",
      "          Conv2d-119             [-1, 64, 2, 2]          38,464\n",
      "     BatchNorm2d-120             [-1, 64, 2, 2]             128\n",
      "            ReLU-121             [-1, 64, 2, 2]               0\n",
      "     BasicConv2d-122             [-1, 64, 2, 2]               0\n",
      "       MaxPool2d-123            [-1, 512, 2, 2]               0\n",
      "          Conv2d-124             [-1, 64, 2, 2]          32,832\n",
      "     BatchNorm2d-125             [-1, 64, 2, 2]             128\n",
      "            ReLU-126             [-1, 64, 2, 2]               0\n",
      "     BasicConv2d-127             [-1, 64, 2, 2]               0\n",
      "       Inception-128            [-1, 512, 2, 2]               0\n",
      "          Conv2d-129            [-1, 128, 2, 2]          65,664\n",
      "     BatchNorm2d-130            [-1, 128, 2, 2]             256\n",
      "            ReLU-131            [-1, 128, 2, 2]               0\n",
      "     BasicConv2d-132            [-1, 128, 2, 2]               0\n",
      "          Conv2d-133            [-1, 128, 2, 2]          65,664\n",
      "     BatchNorm2d-134            [-1, 128, 2, 2]             256\n",
      "            ReLU-135            [-1, 128, 2, 2]               0\n",
      "     BasicConv2d-136            [-1, 128, 2, 2]               0\n",
      "          Conv2d-137            [-1, 256, 2, 2]         295,168\n",
      "     BatchNorm2d-138            [-1, 256, 2, 2]             512\n",
      "            ReLU-139            [-1, 256, 2, 2]               0\n",
      "     BasicConv2d-140            [-1, 256, 2, 2]               0\n",
      "          Conv2d-141             [-1, 24, 2, 2]          12,312\n",
      "     BatchNorm2d-142             [-1, 24, 2, 2]              48\n",
      "            ReLU-143             [-1, 24, 2, 2]               0\n",
      "     BasicConv2d-144             [-1, 24, 2, 2]               0\n",
      "          Conv2d-145             [-1, 64, 2, 2]          38,464\n",
      "     BatchNorm2d-146             [-1, 64, 2, 2]             128\n",
      "            ReLU-147             [-1, 64, 2, 2]               0\n",
      "     BasicConv2d-148             [-1, 64, 2, 2]               0\n",
      "       MaxPool2d-149            [-1, 512, 2, 2]               0\n",
      "          Conv2d-150             [-1, 64, 2, 2]          32,832\n",
      "     BatchNorm2d-151             [-1, 64, 2, 2]             128\n",
      "            ReLU-152             [-1, 64, 2, 2]               0\n",
      "     BasicConv2d-153             [-1, 64, 2, 2]               0\n",
      "       Inception-154            [-1, 512, 2, 2]               0\n",
      "          Conv2d-155            [-1, 112, 2, 2]          57,456\n",
      "     BatchNorm2d-156            [-1, 112, 2, 2]             224\n",
      "            ReLU-157            [-1, 112, 2, 2]               0\n",
      "     BasicConv2d-158            [-1, 112, 2, 2]               0\n",
      "          Conv2d-159            [-1, 144, 2, 2]          73,872\n",
      "     BatchNorm2d-160            [-1, 144, 2, 2]             288\n",
      "            ReLU-161            [-1, 144, 2, 2]               0\n",
      "     BasicConv2d-162            [-1, 144, 2, 2]               0\n",
      "          Conv2d-163            [-1, 288, 2, 2]         373,536\n",
      "     BatchNorm2d-164            [-1, 288, 2, 2]             576\n",
      "            ReLU-165            [-1, 288, 2, 2]               0\n",
      "     BasicConv2d-166            [-1, 288, 2, 2]               0\n",
      "          Conv2d-167             [-1, 32, 2, 2]          16,416\n",
      "     BatchNorm2d-168             [-1, 32, 2, 2]              64\n",
      "            ReLU-169             [-1, 32, 2, 2]               0\n",
      "     BasicConv2d-170             [-1, 32, 2, 2]               0\n",
      "          Conv2d-171             [-1, 64, 2, 2]          51,264\n",
      "     BatchNorm2d-172             [-1, 64, 2, 2]             128\n",
      "            ReLU-173             [-1, 64, 2, 2]               0\n",
      "     BasicConv2d-174             [-1, 64, 2, 2]               0\n",
      "       MaxPool2d-175            [-1, 512, 2, 2]               0\n",
      "          Conv2d-176             [-1, 64, 2, 2]          32,832\n",
      "     BatchNorm2d-177             [-1, 64, 2, 2]             128\n",
      "            ReLU-178             [-1, 64, 2, 2]               0\n",
      "     BasicConv2d-179             [-1, 64, 2, 2]               0\n",
      "       Inception-180            [-1, 528, 2, 2]               0\n",
      "       AvgPool2d-181            [-1, 528, 1, 1]               0\n",
      "          Conv2d-182            [-1, 128, 1, 1]          67,712\n",
      "     BatchNorm2d-183            [-1, 128, 1, 1]             256\n",
      "            ReLU-184            [-1, 128, 1, 1]               0\n",
      "     BasicConv2d-185            [-1, 128, 1, 1]               0\n",
      "          Linear-186                   [-1, 64]           8,256\n",
      "            ReLU-187                   [-1, 64]               0\n",
      "          Linear-188                   [-1, 10]             650\n",
      "    InceptionAux-189                   [-1, 10]               0\n",
      "          Conv2d-190            [-1, 256, 2, 2]         135,424\n",
      "     BatchNorm2d-191            [-1, 256, 2, 2]             512\n",
      "            ReLU-192            [-1, 256, 2, 2]               0\n",
      "     BasicConv2d-193            [-1, 256, 2, 2]               0\n",
      "          Conv2d-194            [-1, 160, 2, 2]          84,640\n",
      "     BatchNorm2d-195            [-1, 160, 2, 2]             320\n",
      "            ReLU-196            [-1, 160, 2, 2]               0\n",
      "     BasicConv2d-197            [-1, 160, 2, 2]               0\n",
      "          Conv2d-198            [-1, 320, 2, 2]         461,120\n",
      "     BatchNorm2d-199            [-1, 320, 2, 2]             640\n",
      "            ReLU-200            [-1, 320, 2, 2]               0\n",
      "     BasicConv2d-201            [-1, 320, 2, 2]               0\n",
      "          Conv2d-202             [-1, 32, 2, 2]          16,928\n",
      "     BatchNorm2d-203             [-1, 32, 2, 2]              64\n",
      "            ReLU-204             [-1, 32, 2, 2]               0\n",
      "     BasicConv2d-205             [-1, 32, 2, 2]               0\n",
      "          Conv2d-206            [-1, 128, 2, 2]         102,528\n",
      "     BatchNorm2d-207            [-1, 128, 2, 2]             256\n",
      "            ReLU-208            [-1, 128, 2, 2]               0\n",
      "     BasicConv2d-209            [-1, 128, 2, 2]               0\n",
      "       MaxPool2d-210            [-1, 528, 2, 2]               0\n",
      "          Conv2d-211            [-1, 128, 2, 2]          67,712\n",
      "     BatchNorm2d-212            [-1, 128, 2, 2]             256\n",
      "            ReLU-213            [-1, 128, 2, 2]               0\n",
      "     BasicConv2d-214            [-1, 128, 2, 2]               0\n",
      "       Inception-215            [-1, 832, 2, 2]               0\n",
      "       MaxPool2d-216            [-1, 832, 1, 1]               0\n",
      "          Conv2d-217            [-1, 256, 1, 1]         213,248\n",
      "     BatchNorm2d-218            [-1, 256, 1, 1]             512\n",
      "            ReLU-219            [-1, 256, 1, 1]               0\n",
      "     BasicConv2d-220            [-1, 256, 1, 1]               0\n",
      "          Conv2d-221            [-1, 160, 1, 1]         133,280\n",
      "     BatchNorm2d-222            [-1, 160, 1, 1]             320\n",
      "            ReLU-223            [-1, 160, 1, 1]               0\n",
      "     BasicConv2d-224            [-1, 160, 1, 1]               0\n",
      "          Conv2d-225            [-1, 320, 1, 1]         461,120\n",
      "     BatchNorm2d-226            [-1, 320, 1, 1]             640\n",
      "            ReLU-227            [-1, 320, 1, 1]               0\n",
      "     BasicConv2d-228            [-1, 320, 1, 1]               0\n",
      "          Conv2d-229             [-1, 32, 1, 1]          26,656\n",
      "     BatchNorm2d-230             [-1, 32, 1, 1]              64\n",
      "            ReLU-231             [-1, 32, 1, 1]               0\n",
      "     BasicConv2d-232             [-1, 32, 1, 1]               0\n",
      "          Conv2d-233            [-1, 128, 1, 1]         102,528\n",
      "     BatchNorm2d-234            [-1, 128, 1, 1]             256\n",
      "            ReLU-235            [-1, 128, 1, 1]               0\n",
      "     BasicConv2d-236            [-1, 128, 1, 1]               0\n",
      "       MaxPool2d-237            [-1, 832, 1, 1]               0\n",
      "          Conv2d-238            [-1, 128, 1, 1]         106,624\n",
      "     BatchNorm2d-239            [-1, 128, 1, 1]             256\n",
      "            ReLU-240            [-1, 128, 1, 1]               0\n",
      "     BasicConv2d-241            [-1, 128, 1, 1]               0\n",
      "       Inception-242            [-1, 832, 1, 1]               0\n",
      "          Conv2d-243            [-1, 384, 1, 1]         319,872\n",
      "     BatchNorm2d-244            [-1, 384, 1, 1]             768\n",
      "            ReLU-245            [-1, 384, 1, 1]               0\n",
      "     BasicConv2d-246            [-1, 384, 1, 1]               0\n",
      "          Conv2d-247            [-1, 192, 1, 1]         159,936\n",
      "     BatchNorm2d-248            [-1, 192, 1, 1]             384\n",
      "            ReLU-249            [-1, 192, 1, 1]               0\n",
      "     BasicConv2d-250            [-1, 192, 1, 1]               0\n",
      "          Conv2d-251            [-1, 384, 1, 1]         663,936\n",
      "     BatchNorm2d-252            [-1, 384, 1, 1]             768\n",
      "            ReLU-253            [-1, 384, 1, 1]               0\n",
      "     BasicConv2d-254            [-1, 384, 1, 1]               0\n",
      "          Conv2d-255             [-1, 48, 1, 1]          39,984\n",
      "     BatchNorm2d-256             [-1, 48, 1, 1]              96\n",
      "            ReLU-257             [-1, 48, 1, 1]               0\n",
      "     BasicConv2d-258             [-1, 48, 1, 1]               0\n",
      "          Conv2d-259            [-1, 128, 1, 1]         153,728\n",
      "     BatchNorm2d-260            [-1, 128, 1, 1]             256\n",
      "            ReLU-261            [-1, 128, 1, 1]               0\n",
      "     BasicConv2d-262            [-1, 128, 1, 1]               0\n",
      "       MaxPool2d-263            [-1, 832, 1, 1]               0\n",
      "          Conv2d-264            [-1, 128, 1, 1]         106,624\n",
      "     BatchNorm2d-265            [-1, 128, 1, 1]             256\n",
      "            ReLU-266            [-1, 128, 1, 1]               0\n",
      "     BasicConv2d-267            [-1, 128, 1, 1]               0\n",
      "       Inception-268           [-1, 1024, 1, 1]               0\n",
      "       AvgPool2d-269           [-1, 1024, 1, 1]               0\n",
      "         Dropout-270                 [-1, 1024]               0\n",
      "          Linear-271                   [-1, 10]          10,250\n",
      "================================================================\n",
      "Total params: 6,143,790\n",
      "Trainable params: 6,143,790\n",
      "Non-trainable params: 0\n",
      "----------------------------------------------------------------\n",
      "Input size (MB): 0.00\n",
      "Forward/backward pass size (MB): 2.46\n",
      "Params size (MB): 23.44\n",
      "Estimated Total Size (MB): 25.90\n",
      "----------------------------------------------------------------\n"
     ]
    },
    {
     "name": "stderr",
     "output_type": "stream",
     "text": [
      "/opt/conda/lib/python3.8/site-packages/torch/nn/functional.py:781: UserWarning: Note that order of the arguments: ceil_mode and return_indices will changeto match the args list in nn.MaxPool2d in a future release.\n",
      "  warnings.warn(\"Note that order of the arguments: ceil_mode and return_indices will change\"\n"
     ]
    }
   ],
   "source": [
    "summary(net,(1,32,32))"
   ]
  },
  {
   "cell_type": "code",
   "execution_count": 20,
   "id": "3463258d",
   "metadata": {
    "execution": {
     "iopub.execute_input": "2022-05-12T20:56:49.970032Z",
     "iopub.status.busy": "2022-05-12T20:56:49.969841Z",
     "iopub.status.idle": "2022-05-12T20:56:49.976006Z",
     "shell.execute_reply": "2022-05-12T20:56:49.975411Z",
     "shell.execute_reply.started": "2022-05-12T20:56:49.970010Z"
    }
   },
   "outputs": [
    {
     "name": "stdout",
     "output_type": "stream",
     "text": [
      "GoogLeNet(\n",
      "  (conv1): BasicConv2d(\n",
      "    (conv): Conv2d(1, 64, kernel_size=(7, 7), stride=(2, 2), padding=(3, 3))\n",
      "    (batch): BatchNorm2d(64, eps=1e-05, momentum=0.1, affine=True, track_running_stats=True)\n",
      "    (relu): ReLU(inplace=True)\n",
      "  )\n",
      "  (maxpool1): MaxPool2d(kernel_size=3, stride=2, padding=0, dilation=1, ceil_mode=True)\n",
      "  (conv2): BasicConv2d(\n",
      "    (conv): Conv2d(64, 64, kernel_size=(1, 1), stride=(1, 1))\n",
      "    (batch): BatchNorm2d(64, eps=1e-05, momentum=0.1, affine=True, track_running_stats=True)\n",
      "    (relu): ReLU(inplace=True)\n",
      "  )\n",
      "  (conv3): BasicConv2d(\n",
      "    (conv): Conv2d(64, 192, kernel_size=(3, 3), stride=(1, 1), padding=(1, 1))\n",
      "    (batch): BatchNorm2d(192, eps=1e-05, momentum=0.1, affine=True, track_running_stats=True)\n",
      "    (relu): ReLU(inplace=True)\n",
      "  )\n",
      "  (maxpool2): MaxPool2d(kernel_size=3, stride=2, padding=0, dilation=1, ceil_mode=True)\n",
      "  (inception3a): Inception(\n",
      "    (branch1x1): BasicConv2d(\n",
      "      (conv): Conv2d(192, 64, kernel_size=(1, 1), stride=(1, 1))\n",
      "      (batch): BatchNorm2d(64, eps=1e-05, momentum=0.1, affine=True, track_running_stats=True)\n",
      "      (relu): ReLU(inplace=True)\n",
      "    )\n",
      "    (branch3x3): Sequential(\n",
      "      (0): BasicConv2d(\n",
      "        (conv): Conv2d(192, 96, kernel_size=(1, 1), stride=(1, 1))\n",
      "        (batch): BatchNorm2d(96, eps=1e-05, momentum=0.1, affine=True, track_running_stats=True)\n",
      "        (relu): ReLU(inplace=True)\n",
      "      )\n",
      "      (1): BasicConv2d(\n",
      "        (conv): Conv2d(96, 128, kernel_size=(3, 3), stride=(1, 1), padding=(1, 1))\n",
      "        (batch): BatchNorm2d(128, eps=1e-05, momentum=0.1, affine=True, track_running_stats=True)\n",
      "        (relu): ReLU(inplace=True)\n",
      "      )\n",
      "    )\n",
      "    (branch5x5): Sequential(\n",
      "      (0): BasicConv2d(\n",
      "        (conv): Conv2d(192, 16, kernel_size=(1, 1), stride=(1, 1))\n",
      "        (batch): BatchNorm2d(16, eps=1e-05, momentum=0.1, affine=True, track_running_stats=True)\n",
      "        (relu): ReLU(inplace=True)\n",
      "      )\n",
      "      (1): BasicConv2d(\n",
      "        (conv): Conv2d(16, 32, kernel_size=(5, 5), stride=(1, 1), padding=(2, 2))\n",
      "        (batch): BatchNorm2d(32, eps=1e-05, momentum=0.1, affine=True, track_running_stats=True)\n",
      "        (relu): ReLU(inplace=True)\n",
      "      )\n",
      "    )\n",
      "    (branch_pool): Sequential(\n",
      "      (0): MaxPool2d(kernel_size=3, stride=1, padding=1, dilation=1, ceil_mode=False)\n",
      "      (1): BasicConv2d(\n",
      "        (conv): Conv2d(192, 32, kernel_size=(1, 1), stride=(1, 1))\n",
      "        (batch): BatchNorm2d(32, eps=1e-05, momentum=0.1, affine=True, track_running_stats=True)\n",
      "        (relu): ReLU(inplace=True)\n",
      "      )\n",
      "    )\n",
      "  )\n",
      "  (inception3b): Inception(\n",
      "    (branch1x1): BasicConv2d(\n",
      "      (conv): Conv2d(256, 128, kernel_size=(1, 1), stride=(1, 1))\n",
      "      (batch): BatchNorm2d(128, eps=1e-05, momentum=0.1, affine=True, track_running_stats=True)\n",
      "      (relu): ReLU(inplace=True)\n",
      "    )\n",
      "    (branch3x3): Sequential(\n",
      "      (0): BasicConv2d(\n",
      "        (conv): Conv2d(256, 128, kernel_size=(1, 1), stride=(1, 1))\n",
      "        (batch): BatchNorm2d(128, eps=1e-05, momentum=0.1, affine=True, track_running_stats=True)\n",
      "        (relu): ReLU(inplace=True)\n",
      "      )\n",
      "      (1): BasicConv2d(\n",
      "        (conv): Conv2d(128, 192, kernel_size=(3, 3), stride=(1, 1), padding=(1, 1))\n",
      "        (batch): BatchNorm2d(192, eps=1e-05, momentum=0.1, affine=True, track_running_stats=True)\n",
      "        (relu): ReLU(inplace=True)\n",
      "      )\n",
      "    )\n",
      "    (branch5x5): Sequential(\n",
      "      (0): BasicConv2d(\n",
      "        (conv): Conv2d(256, 32, kernel_size=(1, 1), stride=(1, 1))\n",
      "        (batch): BatchNorm2d(32, eps=1e-05, momentum=0.1, affine=True, track_running_stats=True)\n",
      "        (relu): ReLU(inplace=True)\n",
      "      )\n",
      "      (1): BasicConv2d(\n",
      "        (conv): Conv2d(32, 96, kernel_size=(5, 5), stride=(1, 1), padding=(2, 2))\n",
      "        (batch): BatchNorm2d(96, eps=1e-05, momentum=0.1, affine=True, track_running_stats=True)\n",
      "        (relu): ReLU(inplace=True)\n",
      "      )\n",
      "    )\n",
      "    (branch_pool): Sequential(\n",
      "      (0): MaxPool2d(kernel_size=3, stride=1, padding=1, dilation=1, ceil_mode=False)\n",
      "      (1): BasicConv2d(\n",
      "        (conv): Conv2d(256, 64, kernel_size=(1, 1), stride=(1, 1))\n",
      "        (batch): BatchNorm2d(64, eps=1e-05, momentum=0.1, affine=True, track_running_stats=True)\n",
      "        (relu): ReLU(inplace=True)\n",
      "      )\n",
      "    )\n",
      "  )\n",
      "  (maxpool3): MaxPool2d(kernel_size=3, stride=2, padding=0, dilation=1, ceil_mode=True)\n",
      "  (inception4a): Inception(\n",
      "    (branch1x1): BasicConv2d(\n",
      "      (conv): Conv2d(480, 192, kernel_size=(1, 1), stride=(1, 1))\n",
      "      (batch): BatchNorm2d(192, eps=1e-05, momentum=0.1, affine=True, track_running_stats=True)\n",
      "      (relu): ReLU(inplace=True)\n",
      "    )\n",
      "    (branch3x3): Sequential(\n",
      "      (0): BasicConv2d(\n",
      "        (conv): Conv2d(480, 96, kernel_size=(1, 1), stride=(1, 1))\n",
      "        (batch): BatchNorm2d(96, eps=1e-05, momentum=0.1, affine=True, track_running_stats=True)\n",
      "        (relu): ReLU(inplace=True)\n",
      "      )\n",
      "      (1): BasicConv2d(\n",
      "        (conv): Conv2d(96, 208, kernel_size=(3, 3), stride=(1, 1), padding=(1, 1))\n",
      "        (batch): BatchNorm2d(208, eps=1e-05, momentum=0.1, affine=True, track_running_stats=True)\n",
      "        (relu): ReLU(inplace=True)\n",
      "      )\n",
      "    )\n",
      "    (branch5x5): Sequential(\n",
      "      (0): BasicConv2d(\n",
      "        (conv): Conv2d(480, 16, kernel_size=(1, 1), stride=(1, 1))\n",
      "        (batch): BatchNorm2d(16, eps=1e-05, momentum=0.1, affine=True, track_running_stats=True)\n",
      "        (relu): ReLU(inplace=True)\n",
      "      )\n",
      "      (1): BasicConv2d(\n",
      "        (conv): Conv2d(16, 48, kernel_size=(5, 5), stride=(1, 1), padding=(2, 2))\n",
      "        (batch): BatchNorm2d(48, eps=1e-05, momentum=0.1, affine=True, track_running_stats=True)\n",
      "        (relu): ReLU(inplace=True)\n",
      "      )\n",
      "    )\n",
      "    (branch_pool): Sequential(\n",
      "      (0): MaxPool2d(kernel_size=3, stride=1, padding=1, dilation=1, ceil_mode=False)\n",
      "      (1): BasicConv2d(\n",
      "        (conv): Conv2d(480, 64, kernel_size=(1, 1), stride=(1, 1))\n",
      "        (batch): BatchNorm2d(64, eps=1e-05, momentum=0.1, affine=True, track_running_stats=True)\n",
      "        (relu): ReLU(inplace=True)\n",
      "      )\n",
      "    )\n",
      "  )\n",
      "  (inception4b): Inception(\n",
      "    (branch1x1): BasicConv2d(\n",
      "      (conv): Conv2d(512, 160, kernel_size=(1, 1), stride=(1, 1))\n",
      "      (batch): BatchNorm2d(160, eps=1e-05, momentum=0.1, affine=True, track_running_stats=True)\n",
      "      (relu): ReLU(inplace=True)\n",
      "    )\n",
      "    (branch3x3): Sequential(\n",
      "      (0): BasicConv2d(\n",
      "        (conv): Conv2d(512, 112, kernel_size=(1, 1), stride=(1, 1))\n",
      "        (batch): BatchNorm2d(112, eps=1e-05, momentum=0.1, affine=True, track_running_stats=True)\n",
      "        (relu): ReLU(inplace=True)\n",
      "      )\n",
      "      (1): BasicConv2d(\n",
      "        (conv): Conv2d(112, 224, kernel_size=(3, 3), stride=(1, 1), padding=(1, 1))\n",
      "        (batch): BatchNorm2d(224, eps=1e-05, momentum=0.1, affine=True, track_running_stats=True)\n",
      "        (relu): ReLU(inplace=True)\n",
      "      )\n",
      "    )\n",
      "    (branch5x5): Sequential(\n",
      "      (0): BasicConv2d(\n",
      "        (conv): Conv2d(512, 24, kernel_size=(1, 1), stride=(1, 1))\n",
      "        (batch): BatchNorm2d(24, eps=1e-05, momentum=0.1, affine=True, track_running_stats=True)\n",
      "        (relu): ReLU(inplace=True)\n",
      "      )\n",
      "      (1): BasicConv2d(\n",
      "        (conv): Conv2d(24, 64, kernel_size=(5, 5), stride=(1, 1), padding=(2, 2))\n",
      "        (batch): BatchNorm2d(64, eps=1e-05, momentum=0.1, affine=True, track_running_stats=True)\n",
      "        (relu): ReLU(inplace=True)\n",
      "      )\n",
      "    )\n",
      "    (branch_pool): Sequential(\n",
      "      (0): MaxPool2d(kernel_size=3, stride=1, padding=1, dilation=1, ceil_mode=False)\n",
      "      (1): BasicConv2d(\n",
      "        (conv): Conv2d(512, 64, kernel_size=(1, 1), stride=(1, 1))\n",
      "        (batch): BatchNorm2d(64, eps=1e-05, momentum=0.1, affine=True, track_running_stats=True)\n",
      "        (relu): ReLU(inplace=True)\n",
      "      )\n",
      "    )\n",
      "  )\n",
      "  (inception4c): Inception(\n",
      "    (branch1x1): BasicConv2d(\n",
      "      (conv): Conv2d(512, 128, kernel_size=(1, 1), stride=(1, 1))\n",
      "      (batch): BatchNorm2d(128, eps=1e-05, momentum=0.1, affine=True, track_running_stats=True)\n",
      "      (relu): ReLU(inplace=True)\n",
      "    )\n",
      "    (branch3x3): Sequential(\n",
      "      (0): BasicConv2d(\n",
      "        (conv): Conv2d(512, 128, kernel_size=(1, 1), stride=(1, 1))\n",
      "        (batch): BatchNorm2d(128, eps=1e-05, momentum=0.1, affine=True, track_running_stats=True)\n",
      "        (relu): ReLU(inplace=True)\n",
      "      )\n",
      "      (1): BasicConv2d(\n",
      "        (conv): Conv2d(128, 256, kernel_size=(3, 3), stride=(1, 1), padding=(1, 1))\n",
      "        (batch): BatchNorm2d(256, eps=1e-05, momentum=0.1, affine=True, track_running_stats=True)\n",
      "        (relu): ReLU(inplace=True)\n",
      "      )\n",
      "    )\n",
      "    (branch5x5): Sequential(\n",
      "      (0): BasicConv2d(\n",
      "        (conv): Conv2d(512, 24, kernel_size=(1, 1), stride=(1, 1))\n",
      "        (batch): BatchNorm2d(24, eps=1e-05, momentum=0.1, affine=True, track_running_stats=True)\n",
      "        (relu): ReLU(inplace=True)\n",
      "      )\n",
      "      (1): BasicConv2d(\n",
      "        (conv): Conv2d(24, 64, kernel_size=(5, 5), stride=(1, 1), padding=(2, 2))\n",
      "        (batch): BatchNorm2d(64, eps=1e-05, momentum=0.1, affine=True, track_running_stats=True)\n",
      "        (relu): ReLU(inplace=True)\n",
      "      )\n",
      "    )\n",
      "    (branch_pool): Sequential(\n",
      "      (0): MaxPool2d(kernel_size=3, stride=1, padding=1, dilation=1, ceil_mode=False)\n",
      "      (1): BasicConv2d(\n",
      "        (conv): Conv2d(512, 64, kernel_size=(1, 1), stride=(1, 1))\n",
      "        (batch): BatchNorm2d(64, eps=1e-05, momentum=0.1, affine=True, track_running_stats=True)\n",
      "        (relu): ReLU(inplace=True)\n",
      "      )\n",
      "    )\n",
      "  )\n",
      "  (inception4d): Inception(\n",
      "    (branch1x1): BasicConv2d(\n",
      "      (conv): Conv2d(512, 112, kernel_size=(1, 1), stride=(1, 1))\n",
      "      (batch): BatchNorm2d(112, eps=1e-05, momentum=0.1, affine=True, track_running_stats=True)\n",
      "      (relu): ReLU(inplace=True)\n",
      "    )\n",
      "    (branch3x3): Sequential(\n",
      "      (0): BasicConv2d(\n",
      "        (conv): Conv2d(512, 144, kernel_size=(1, 1), stride=(1, 1))\n",
      "        (batch): BatchNorm2d(144, eps=1e-05, momentum=0.1, affine=True, track_running_stats=True)\n",
      "        (relu): ReLU(inplace=True)\n",
      "      )\n",
      "      (1): BasicConv2d(\n",
      "        (conv): Conv2d(144, 288, kernel_size=(3, 3), stride=(1, 1), padding=(1, 1))\n",
      "        (batch): BatchNorm2d(288, eps=1e-05, momentum=0.1, affine=True, track_running_stats=True)\n",
      "        (relu): ReLU(inplace=True)\n",
      "      )\n",
      "    )\n",
      "    (branch5x5): Sequential(\n",
      "      (0): BasicConv2d(\n",
      "        (conv): Conv2d(512, 32, kernel_size=(1, 1), stride=(1, 1))\n",
      "        (batch): BatchNorm2d(32, eps=1e-05, momentum=0.1, affine=True, track_running_stats=True)\n",
      "        (relu): ReLU(inplace=True)\n",
      "      )\n",
      "      (1): BasicConv2d(\n",
      "        (conv): Conv2d(32, 64, kernel_size=(5, 5), stride=(1, 1), padding=(2, 2))\n",
      "        (batch): BatchNorm2d(64, eps=1e-05, momentum=0.1, affine=True, track_running_stats=True)\n",
      "        (relu): ReLU(inplace=True)\n",
      "      )\n",
      "    )\n",
      "    (branch_pool): Sequential(\n",
      "      (0): MaxPool2d(kernel_size=3, stride=1, padding=1, dilation=1, ceil_mode=False)\n",
      "      (1): BasicConv2d(\n",
      "        (conv): Conv2d(512, 64, kernel_size=(1, 1), stride=(1, 1))\n",
      "        (batch): BatchNorm2d(64, eps=1e-05, momentum=0.1, affine=True, track_running_stats=True)\n",
      "        (relu): ReLU(inplace=True)\n",
      "      )\n",
      "    )\n",
      "  )\n",
      "  (inception4e): Inception(\n",
      "    (branch1x1): BasicConv2d(\n",
      "      (conv): Conv2d(528, 256, kernel_size=(1, 1), stride=(1, 1))\n",
      "      (batch): BatchNorm2d(256, eps=1e-05, momentum=0.1, affine=True, track_running_stats=True)\n",
      "      (relu): ReLU(inplace=True)\n",
      "    )\n",
      "    (branch3x3): Sequential(\n",
      "      (0): BasicConv2d(\n",
      "        (conv): Conv2d(528, 160, kernel_size=(1, 1), stride=(1, 1))\n",
      "        (batch): BatchNorm2d(160, eps=1e-05, momentum=0.1, affine=True, track_running_stats=True)\n",
      "        (relu): ReLU(inplace=True)\n",
      "      )\n",
      "      (1): BasicConv2d(\n",
      "        (conv): Conv2d(160, 320, kernel_size=(3, 3), stride=(1, 1), padding=(1, 1))\n",
      "        (batch): BatchNorm2d(320, eps=1e-05, momentum=0.1, affine=True, track_running_stats=True)\n",
      "        (relu): ReLU(inplace=True)\n",
      "      )\n",
      "    )\n",
      "    (branch5x5): Sequential(\n",
      "      (0): BasicConv2d(\n",
      "        (conv): Conv2d(528, 32, kernel_size=(1, 1), stride=(1, 1))\n",
      "        (batch): BatchNorm2d(32, eps=1e-05, momentum=0.1, affine=True, track_running_stats=True)\n",
      "        (relu): ReLU(inplace=True)\n",
      "      )\n",
      "      (1): BasicConv2d(\n",
      "        (conv): Conv2d(32, 128, kernel_size=(5, 5), stride=(1, 1), padding=(2, 2))\n",
      "        (batch): BatchNorm2d(128, eps=1e-05, momentum=0.1, affine=True, track_running_stats=True)\n",
      "        (relu): ReLU(inplace=True)\n",
      "      )\n",
      "    )\n",
      "    (branch_pool): Sequential(\n",
      "      (0): MaxPool2d(kernel_size=3, stride=1, padding=1, dilation=1, ceil_mode=False)\n",
      "      (1): BasicConv2d(\n",
      "        (conv): Conv2d(528, 128, kernel_size=(1, 1), stride=(1, 1))\n",
      "        (batch): BatchNorm2d(128, eps=1e-05, momentum=0.1, affine=True, track_running_stats=True)\n",
      "        (relu): ReLU(inplace=True)\n",
      "      )\n",
      "    )\n",
      "  )\n",
      "  (maxpool4): MaxPool2d(kernel_size=3, stride=2, padding=0, dilation=1, ceil_mode=True)\n",
      "  (inception5a): Inception(\n",
      "    (branch1x1): BasicConv2d(\n",
      "      (conv): Conv2d(832, 256, kernel_size=(1, 1), stride=(1, 1))\n",
      "      (batch): BatchNorm2d(256, eps=1e-05, momentum=0.1, affine=True, track_running_stats=True)\n",
      "      (relu): ReLU(inplace=True)\n",
      "    )\n",
      "    (branch3x3): Sequential(\n",
      "      (0): BasicConv2d(\n",
      "        (conv): Conv2d(832, 160, kernel_size=(1, 1), stride=(1, 1))\n",
      "        (batch): BatchNorm2d(160, eps=1e-05, momentum=0.1, affine=True, track_running_stats=True)\n",
      "        (relu): ReLU(inplace=True)\n",
      "      )\n",
      "      (1): BasicConv2d(\n",
      "        (conv): Conv2d(160, 320, kernel_size=(3, 3), stride=(1, 1), padding=(1, 1))\n",
      "        (batch): BatchNorm2d(320, eps=1e-05, momentum=0.1, affine=True, track_running_stats=True)\n",
      "        (relu): ReLU(inplace=True)\n",
      "      )\n",
      "    )\n",
      "    (branch5x5): Sequential(\n",
      "      (0): BasicConv2d(\n",
      "        (conv): Conv2d(832, 32, kernel_size=(1, 1), stride=(1, 1))\n",
      "        (batch): BatchNorm2d(32, eps=1e-05, momentum=0.1, affine=True, track_running_stats=True)\n",
      "        (relu): ReLU(inplace=True)\n",
      "      )\n",
      "      (1): BasicConv2d(\n",
      "        (conv): Conv2d(32, 128, kernel_size=(5, 5), stride=(1, 1), padding=(2, 2))\n",
      "        (batch): BatchNorm2d(128, eps=1e-05, momentum=0.1, affine=True, track_running_stats=True)\n",
      "        (relu): ReLU(inplace=True)\n",
      "      )\n",
      "    )\n",
      "    (branch_pool): Sequential(\n",
      "      (0): MaxPool2d(kernel_size=3, stride=1, padding=1, dilation=1, ceil_mode=False)\n",
      "      (1): BasicConv2d(\n",
      "        (conv): Conv2d(832, 128, kernel_size=(1, 1), stride=(1, 1))\n",
      "        (batch): BatchNorm2d(128, eps=1e-05, momentum=0.1, affine=True, track_running_stats=True)\n",
      "        (relu): ReLU(inplace=True)\n",
      "      )\n",
      "    )\n",
      "  )\n",
      "  (inception5b): Inception(\n",
      "    (branch1x1): BasicConv2d(\n",
      "      (conv): Conv2d(832, 384, kernel_size=(1, 1), stride=(1, 1))\n",
      "      (batch): BatchNorm2d(384, eps=1e-05, momentum=0.1, affine=True, track_running_stats=True)\n",
      "      (relu): ReLU(inplace=True)\n",
      "    )\n",
      "    (branch3x3): Sequential(\n",
      "      (0): BasicConv2d(\n",
      "        (conv): Conv2d(832, 192, kernel_size=(1, 1), stride=(1, 1))\n",
      "        (batch): BatchNorm2d(192, eps=1e-05, momentum=0.1, affine=True, track_running_stats=True)\n",
      "        (relu): ReLU(inplace=True)\n",
      "      )\n",
      "      (1): BasicConv2d(\n",
      "        (conv): Conv2d(192, 384, kernel_size=(3, 3), stride=(1, 1), padding=(1, 1))\n",
      "        (batch): BatchNorm2d(384, eps=1e-05, momentum=0.1, affine=True, track_running_stats=True)\n",
      "        (relu): ReLU(inplace=True)\n",
      "      )\n",
      "    )\n",
      "    (branch5x5): Sequential(\n",
      "      (0): BasicConv2d(\n",
      "        (conv): Conv2d(832, 48, kernel_size=(1, 1), stride=(1, 1))\n",
      "        (batch): BatchNorm2d(48, eps=1e-05, momentum=0.1, affine=True, track_running_stats=True)\n",
      "        (relu): ReLU(inplace=True)\n",
      "      )\n",
      "      (1): BasicConv2d(\n",
      "        (conv): Conv2d(48, 128, kernel_size=(5, 5), stride=(1, 1), padding=(2, 2))\n",
      "        (batch): BatchNorm2d(128, eps=1e-05, momentum=0.1, affine=True, track_running_stats=True)\n",
      "        (relu): ReLU(inplace=True)\n",
      "      )\n",
      "    )\n",
      "    (branch_pool): Sequential(\n",
      "      (0): MaxPool2d(kernel_size=3, stride=1, padding=1, dilation=1, ceil_mode=False)\n",
      "      (1): BasicConv2d(\n",
      "        (conv): Conv2d(832, 128, kernel_size=(1, 1), stride=(1, 1))\n",
      "        (batch): BatchNorm2d(128, eps=1e-05, momentum=0.1, affine=True, track_running_stats=True)\n",
      "        (relu): ReLU(inplace=True)\n",
      "      )\n",
      "    )\n",
      "  )\n",
      "  (aux1): InceptionAux(\n",
      "    (averagePool): AvgPool2d(kernel_size=2, stride=2, padding=0)\n",
      "    (conv): BasicConv2d(\n",
      "      (conv): Conv2d(512, 128, kernel_size=(1, 1), stride=(1, 1))\n",
      "      (batch): BatchNorm2d(128, eps=1e-05, momentum=0.1, affine=True, track_running_stats=True)\n",
      "      (relu): ReLU(inplace=True)\n",
      "    )\n",
      "    (fc1): Sequential(\n",
      "      (0): Linear(in_features=128, out_features=64, bias=True)\n",
      "      (1): ReLU(inplace=True)\n",
      "    )\n",
      "    (fc2): Linear(in_features=64, out_features=10, bias=True)\n",
      "  )\n",
      "  (aux2): InceptionAux(\n",
      "    (averagePool): AvgPool2d(kernel_size=2, stride=2, padding=0)\n",
      "    (conv): BasicConv2d(\n",
      "      (conv): Conv2d(528, 128, kernel_size=(1, 1), stride=(1, 1))\n",
      "      (batch): BatchNorm2d(128, eps=1e-05, momentum=0.1, affine=True, track_running_stats=True)\n",
      "      (relu): ReLU(inplace=True)\n",
      "    )\n",
      "    (fc1): Sequential(\n",
      "      (0): Linear(in_features=128, out_features=64, bias=True)\n",
      "      (1): ReLU(inplace=True)\n",
      "    )\n",
      "    (fc2): Linear(in_features=64, out_features=10, bias=True)\n",
      "  )\n",
      "  (avgpool): AvgPool2d(kernel_size=1, stride=1, padding=0)\n",
      "  (dropout): Dropout(p=0.4, inplace=False)\n",
      "  (classifier): Linear(in_features=1024, out_features=10, bias=True)\n",
      ")\n"
     ]
    }
   ],
   "source": [
    "print(net)"
   ]
  },
  {
   "cell_type": "code",
   "execution_count": 21,
   "id": "530ab432",
   "metadata": {
    "execution": {
     "iopub.execute_input": "2022-05-12T20:56:49.976971Z",
     "iopub.status.busy": "2022-05-12T20:56:49.976811Z",
     "iopub.status.idle": "2022-05-12T20:56:50.218470Z",
     "shell.execute_reply": "2022-05-12T20:56:50.217668Z",
     "shell.execute_reply.started": "2022-05-12T20:56:49.976952Z"
    }
   },
   "outputs": [
    {
     "name": "stdout",
     "output_type": "stream",
     "text": [
      "block 1 output: torch.Size([3, 64, 8, 8])\n",
      "block 2 output: torch.Size([3, 192, 4, 4])\n",
      "block 3 output: torch.Size([3, 480, 2, 2])\n",
      "aux 1 output: torch.Size([3, 10])\n",
      "aux 2 output: torch.Size([3, 10])\n",
      "block 4 output: torch.Size([3, 832, 1, 1])\n",
      "block 5 output: torch.Size([3, 1024, 1, 1])\n",
      "output: torch.Size([3, 10])\n"
     ]
    }
   ],
   "source": [
    "test_net = GoogLeNet(1, 10, aux_logits = True,verbose = True)\n",
    "test_x = torch.zeros(3, 1, 32, 32)\n",
    "test_net.train\n",
    "test_y = test_net(test_x)\n",
    "print('output: {}'.format(test_y[0].shape))"
   ]
  },
  {
   "cell_type": "code",
   "execution_count": 22,
   "id": "4680442b",
   "metadata": {
    "execution": {
     "iopub.execute_input": "2022-05-12T20:56:50.220318Z",
     "iopub.status.busy": "2022-05-12T20:56:50.219646Z",
     "iopub.status.idle": "2022-05-12T20:56:50.378591Z",
     "shell.execute_reply": "2022-05-12T20:56:50.377842Z",
     "shell.execute_reply.started": "2022-05-12T20:56:50.220290Z"
    },
    "lang": "en"
   },
   "outputs": [],
   "source": [
    "net = GoogLeNet(1,10,aux_logits=True).to(device)\n",
    "if device == 'cuda':\n",
    "    net = nn.DataParallel(net)\n",
    "    # When the calculation graph does not change (the input shape is the same each time, the model does not change), the performance can be improved, otherwise the performance will be reduced\n",
    "    torch.backends.cudnn.benchmark=True"
   ]
  },
  {
   "cell_type": "markdown",
   "id": "dcae359d",
   "metadata": {},
   "source": [
    "\n",
    "### 5. Define the loss function and optimizer\n"
   ]
  },
  {
   "cell_type": "code",
   "execution_count": 23,
   "id": "eb7f33f1",
   "metadata": {
    "execution": {
     "iopub.execute_input": "2022-05-12T20:56:50.380194Z",
     "iopub.status.busy": "2022-05-12T20:56:50.380017Z",
     "iopub.status.idle": "2022-05-12T20:56:50.385528Z",
     "shell.execute_reply": "2022-05-12T20:56:50.384930Z",
     "shell.execute_reply.started": "2022-05-12T20:56:50.380173Z"
    }
   },
   "outputs": [],
   "source": [
    "import torch.optim as optim\n",
    "optimizer = optim.SGD(net.parameters(), lr=0.01, momentum=0.9, weight_decay=5e-4)\n",
    "criterion = nn.CrossEntropyLoss()\n",
    "scheduler = optim.lr_scheduler.ReduceLROnPlateau(optimizer, 'min', factor=0.5 ,patience = 5,min_lr = 0.000001) # 动态更新学习率\n",
    "# scheduler = optim.lr_scheduler.MultiStepLR(optimizer, milestones=[75, 150], gamma=0.5)\n",
    "import time\n",
    "epoch = 20"
   ]
  },
  {
   "cell_type": "markdown",
   "id": "3ca3ea17",
   "metadata": {},
   "source": [
    "\n",
    "### 6. Training\n",
    "\n",
    " If there is no accident, an error will be reported, because the input picture size in the 22-layer structure is 32x32, but in a series of intermediate calculations, the 32x32 picture size will appear in a certain link. The size of the calculation result is 0x0, so Mismatch.\n",
    "\n",
    " But in order to be the same as the paper, I changed all of them to 3x224x224 in the transform of the data, so no error will be reported.\n",
    "\n",
    " If we want to use 3x32x32, we may need to modify our average pooling layer\n",
    "\n",
    " I&#39;m using 32x32x3 here\n"
   ]
  },
  {
   "cell_type": "code",
   "execution_count": 24,
   "id": "c7a5e3a5",
   "metadata": {
    "execution": {
     "iopub.execute_input": "2022-05-12T20:56:50.386762Z",
     "iopub.status.busy": "2022-05-12T20:56:50.386609Z",
     "iopub.status.idle": "2022-05-12T20:56:50.390741Z",
     "shell.execute_reply": "2022-05-12T20:56:50.390145Z",
     "shell.execute_reply.started": "2022-05-12T20:56:50.386743Z"
    },
    "lang": "en"
   },
   "outputs": [
    {
     "name": "stdout",
     "output_type": "stream",
     "text": [
      "The file already exists\n"
     ]
    }
   ],
   "source": [
    "import os\n",
    "if not os.path.exists('./model'):\n",
    "    os.makedirs('./model')\n",
    "else:\n",
    "    print('The file already exists')\n",
    "save_path = './model/GoogLeNet.pth'"
   ]
  },
  {
   "cell_type": "code",
   "execution_count": 25,
   "id": "d0546b58-023a-4945-91bc-5c34d4cba578",
   "metadata": {
    "execution": {
     "iopub.execute_input": "2022-05-12T20:56:50.392158Z",
     "iopub.status.busy": "2022-05-12T20:56:50.391994Z",
     "iopub.status.idle": "2022-05-12T21:14:20.589673Z",
     "shell.execute_reply": "2022-05-12T21:14:20.588866Z",
     "shell.execute_reply.started": "2022-05-12T20:56:50.392139Z"
    }
   },
   "outputs": [
    {
     "name": "stdout",
     "output_type": "stream",
     "text": [
      "Epoch [  1/ 20]  Train Loss:0.938526  Train Acc:90.66% Test Loss:0.081285  Test Acc:97.48%  Learning Rate:0.010000\tTime 00:57\n",
      "Epoch [  2/ 20]  Train Loss:0.205739  Train Acc:97.33% Test Loss:0.056611  Test Acc:98.33%  Learning Rate:0.010000\tTime 00:53\n",
      "Epoch [  3/ 20]  Train Loss:0.139852  Train Acc:98.06% Test Loss:0.064223  Test Acc:97.86%  Learning Rate:0.010000\tTime 00:52\n",
      "Epoch [  4/ 20]  Train Loss:0.111496  Train Acc:98.46% Test Loss:0.054710  Test Acc:98.34%  Learning Rate:0.010000\tTime 00:53\n",
      "Epoch [  5/ 20]  Train Loss:0.098122  Train Acc:98.63% Test Loss:0.041679  Test Acc:98.66%  Learning Rate:0.010000\tTime 00:52\n",
      "Epoch [  6/ 20]  Train Loss:0.086960  Train Acc:98.79% Test Loss:0.036209  Test Acc:98.82%  Learning Rate:0.010000\tTime 00:52\n",
      "Epoch [  7/ 20]  Train Loss:0.078976  Train Acc:98.93% Test Loss:0.033374  Test Acc:98.94%  Learning Rate:0.010000\tTime 00:51\n",
      "Epoch [  8/ 20]  Train Loss:0.073511  Train Acc:99.01% Test Loss:0.037965  Test Acc:98.83%  Learning Rate:0.010000\tTime 00:52\n",
      "Epoch [  9/ 20]  Train Loss:0.070989  Train Acc:99.03% Test Loss:0.039567  Test Acc:98.83%  Learning Rate:0.010000\tTime 00:52\n",
      "Epoch [ 10/ 20]  Train Loss:0.064527  Train Acc:99.07% Test Loss:0.043260  Test Acc:98.72%  Learning Rate:0.010000\tTime 00:53\n",
      "Epoch [ 11/ 20]  Train Loss:0.067896  Train Acc:99.05% Test Loss:0.041263  Test Acc:98.78%  Learning Rate:0.010000\tTime 00:51\n",
      "Epoch [ 12/ 20]  Train Loss:0.059059  Train Acc:99.18% Test Loss:0.041691  Test Acc:98.79%  Learning Rate:0.010000\tTime 00:51\n",
      "Epoch [ 13/ 20]  Train Loss:0.062687  Train Acc:99.14% Test Loss:0.035373  Test Acc:99.00%  Learning Rate:0.010000\tTime 00:51\n",
      "Epoch [ 14/ 20]  Train Loss:0.058344  Train Acc:99.22% Test Loss:0.033066  Test Acc:98.94%  Learning Rate:0.010000\tTime 00:51\n",
      "Epoch [ 15/ 20]  Train Loss:0.055935  Train Acc:99.26% Test Loss:0.046810  Test Acc:98.68%  Learning Rate:0.010000\tTime 00:50\n",
      "Epoch [ 16/ 20]  Train Loss:0.054411  Train Acc:99.30% Test Loss:0.041137  Test Acc:98.83%  Learning Rate:0.010000\tTime 00:50\n",
      "Epoch [ 17/ 20]  Train Loss:0.058924  Train Acc:99.19% Test Loss:0.038389  Test Acc:98.93%  Learning Rate:0.010000\tTime 00:51\n",
      "Epoch [ 18/ 20]  Train Loss:0.059965  Train Acc:99.18% Test Loss:0.044950  Test Acc:98.66%  Learning Rate:0.010000\tTime 00:50\n",
      "Epoch [ 19/ 20]  Train Loss:0.054986  Train Acc:99.29% Test Loss:0.044646  Test Acc:98.69%  Learning Rate:0.010000\tTime 00:51\n",
      "Epoch [ 20/ 20]  Train Loss:0.059425  Train Acc:99.19% Test Loss:0.042207  Test Acc:98.93%  Learning Rate:0.010000\tTime 00:50\n"
     ]
    }
   ],
   "source": [
    "import time\n",
    "best_acc = 0\n",
    "train_acc_list, test_acc_list = [],[]\n",
    "train_loss_list, test_loss_list = [],[]\n",
    "lr_list = []\n",
    "for i in range(epoch):\n",
    "    start = time.time()\n",
    "    train_loss = 0\n",
    "    train_acc = 0\n",
    "    test_loss = 0\n",
    "    test_acc = 0\n",
    "    if torch.cuda.is_available():\n",
    "        net = net.to(device)\n",
    "    net.train()\n",
    "    for step,data in enumerate(trainloader,start=0):\n",
    "        im,label = data\n",
    "        im = im.to(device)\n",
    "        label = label.to(device)\n",
    "        \n",
    "        optimizer.zero_grad()\n",
    "        if hasattr(torch.cuda, 'empty_cache'):\n",
    "            torch.cuda.empty_cache()\n",
    "        logits, aux_logits2, aux_logits1 = net(im)\n",
    "        loss0 = criterion(logits, label)\n",
    "        loss1 = criterion(aux_logits1, label)\n",
    "        loss2 = criterion(aux_logits2, label)\n",
    "        loss = loss0 + loss1 *0.3 + loss2* 0.3\n",
    "        loss.backward()\n",
    "        optimizer.step()\n",
    "        outputs = logits\n",
    "        train_loss += loss.data\n",
    "        probs, pred_y = outputs.data.max(dim=1) # get the probability\n",
    "        train_acc += (pred_y==label).sum()/label.size(0)\n",
    "\n",
    "        rate = (step + 1) / len(trainloader)\n",
    "        a = \"*\"* int(rate *50)\n",
    "        b = \".\"* (50 - int(rate *50))\n",
    "        print('\\r train {:3d}|{:3d} {:^3.0f}% [{}->{}] '.format(i+1,epoch,int(rate*100),a ,b),end='')\n",
    "\n",
    "    train_loss = train_loss / len(trainloader)\n",
    "    train_acc = train_acc*100 / len(trainloader)\n",
    "# print('train_loss:{:.3f} train_acc:{:3.2f}%' .format(train_loss ,train_acc),end=' ')\n",
    "    train_acc_list.append(train_acc)\n",
    "    train_loss_list.append(train_loss)\n",
    "    lr = optimizer.param_groups[0]['lr']\n",
    "    lr_list.append(lr)\n",
    "    scheduler.step(train_loss)\n",
    "    \n",
    "    net.eval()\n",
    "    with torch.no_grad():\n",
    "        for step,data in enumerate(testloader,start=0):\n",
    "            im,label = data\n",
    "            im = im.to(device)\n",
    "            label = label.to(device)\n",
    "            outputs = net(im)\n",
    "            loss = criterion(outputs,label)\n",
    "            test_loss += loss.data\n",
    "            probs, pred_y = outputs.data.max(dim=1) # get the probability\n",
    "            test_acc += (pred_y==label).sum()/label.size(0)\n",
    "            rate = (step + 1) / len(testloader)\n",
    "            a = \"*\" *int(rate* 50)\n",
    "            b = \".\" *(50 - int(rate* 50))\n",
    "            print('\\r test {:3d}|{:3d} {:^3.0f}% [{}->{}] '.format(i+1,epoch,int(rate*100),a ,b),end='')\n",
    "    test_loss = test_loss / len(testloader)\n",
    "    test_acc = test_acc* 100 /len(testloader)\n",
    "    test_loss_list.append(test_loss)\n",
    "    test_acc_list.append(test_acc)\n",
    "    end = time.time()\n",
    "    print('\\rEpoch [{:>3d}/{:>3d}]  Train Loss:{:>.6f}  Train Acc:{:>3.2f}% Test Loss:{:>.6f}  Test Acc:{:>3.2f}%  Learning Rate:{:>.6f}'.format(\n",
    "                    i + 1, epoch, train_loss, train_acc, test_loss, test_acc,lr), end='')\n",
    "    time_= int(end - start)\n",
    "    time_ = int(end - start)\n",
    "    h = time_/ 3600\n",
    "    m = time_% 3600/60\n",
    "    s = time_% 60\n",
    "    time_str = \"\\tTime %02d:%02d\" % ( m, s)\n",
    "    # print elapsed time\n",
    "    print(time_str)\n",
    "    # If you get better accuracy, save the model\n",
    "    if test_acc > best_acc:\n",
    "        torch.save(net,save_path)\n",
    "        best_acc = test_acc\n",
    "\n",
    "Acc = {}\n",
    "Loss = {}\n",
    "Acc['train_acc'] = train_acc_list\n",
    "Acc['test_acc'] = test_acc_list\n",
    "Loss['train_loss'] = train_loss_list\n",
    "Loss['test_loss'] = test_loss_list\n",
    "Lr = lr_list\n",
    "\n"
   ]
  },
  {
   "cell_type": "code",
   "execution_count": null,
   "id": "8c8b4452-cea5-4d78-aa8a-68952aab2c89",
   "metadata": {},
   "outputs": [],
   "source": []
  },
  {
   "cell_type": "code",
   "execution_count": 27,
   "id": "3509b703-81c1-40df-aef4-b37275679f18",
   "metadata": {
    "execution": {
     "iopub.execute_input": "2022-05-12T21:14:23.464085Z",
     "iopub.status.busy": "2022-05-12T21:14:23.463471Z",
     "iopub.status.idle": "2022-05-12T21:14:23.795901Z",
     "shell.execute_reply": "2022-05-12T21:14:23.795185Z",
     "shell.execute_reply.started": "2022-05-12T21:14:23.464049Z"
    }
   },
   "outputs": [
    {
     "data": {
      "image/png": "[encoded data removed]",
      "text/plain": [
       "<Figure size 720x576 with 1 Axes>"
      ]
     },
     "metadata": {
      "needs_background": "light"
     },
     "output_type": "display_data"
    },
    {
     "data": {
      "image/png": "[encoded data removed]",
      "text/plain": [
       "<Figure size 720x576 with 1 Axes>"
      ]
     },
     "metadata": {
      "needs_background": "light"
     },
     "output_type": "display_data"
    },
    {
     "data": {
      "image/png": "[encoded data removed]",
      "text/plain": [
       "<Figure size 720x576 with 1 Axes>"
      ]
     },
     "metadata": {
      "needs_background": "light"
     },
     "output_type": "display_data"
    }
   ],
   "source": [
    "train_loss, test_loss = Loss['train_loss'], Loss['test_loss']\n",
    "train_acc, test_acc = Acc['train_acc'], Acc['test_acc']\n",
    "train_loss = [i.to('cpu') for i in train_loss]\n",
    "test_loss = [i.to('cpu') for i in test_loss]\n",
    "train_acc = [i.to('cpu') for i in train_acc]\n",
    "test_acc = [i.to('cpu') for i in test_acc]\n",
    "Acc['train_acc'] = train_acc\n",
    "Acc['test_acc'] = test_acc\n",
    "Loss['train_loss'] = train_loss\n",
    "Loss['test_loss'] = test_loss\n",
    "plot_history(epoch, Acc, Loss, Lr)"
   ]
  },
  {
   "cell_type": "code",
   "execution_count": 28,
   "id": "b49ee1c3",
   "metadata": {
    "execution": {
     "iopub.execute_input": "2022-05-12T21:14:26.228721Z",
     "iopub.status.busy": "2022-05-12T21:14:26.228463Z",
     "iopub.status.idle": "2022-05-12T21:14:29.284541Z",
     "shell.execute_reply": "2022-05-12T21:14:29.283854Z",
     "shell.execute_reply.started": "2022-05-12T21:14:26.228698Z"
    }
   },
   "outputs": [
    {
     "data": {
      "image/png": "[encoded data removed]",
      "text/plain": [
       "<Figure size 720x576 with 1 Axes>"
      ]
     },
     "metadata": {
      "needs_background": "light"
     },
     "output_type": "display_data"
    }
   ],
   "source": [
    "class_dict = {0: 'zero',\n",
    "              1: 'one',\n",
    "              2: 'two',\n",
    "              3: 'three',\n",
    "              4: 'four',\n",
    "              5: 'five',\n",
    "              6: 'six',\n",
    "              7: 'seven',\n",
    "              8: 'eight',\n",
    "              9: 'nine'}\n",
    "\n",
    "mat = compute_confusion_matrix(model=net, data_loader=testloader, device=torch.device('cpu'))\n",
    "plot_confusion_matrix(mat, class_names=class_dict.values())\n",
    "plt.show()\n"
   ]
  },
  {
   "cell_type": "code",
   "execution_count": 29,
   "id": "38e985d7",
   "metadata": {
    "execution": {
     "iopub.execute_input": "2022-05-12T21:14:29.286322Z",
     "iopub.status.busy": "2022-05-12T21:14:29.285855Z",
     "iopub.status.idle": "2022-05-12T21:14:30.074481Z",
     "shell.execute_reply": "2022-05-12T21:14:30.073751Z",
     "shell.execute_reply.started": "2022-05-12T21:14:29.286299Z"
    }
   },
   "outputs": [
    {
     "data": {
      "image/png": "[encoded data removed]",
      "text/plain": [
       "<Figure size 720x576 with 15 Axes>"
      ]
     },
     "metadata": {
      "needs_background": "light"
     },
     "output_type": "display_data"
    }
   ],
   "source": [
    "unnormalizer = UnNormalize((0.5, 0.5, 0.5), (0.5, 0.5, 0.5))\n",
    "\n",
    "show_examples(model=net, data_loader=testloader, unnormalizer=unnormalizer, class_dict=class_dict)"
   ]
  },
  {
   "cell_type": "markdown",
   "id": "a4e067f0",
   "metadata": {},
   "source": [
    "\n",
    "### 7. Test\n"
   ]
  },
  {
   "cell_type": "code",
   "execution_count": 31,
   "id": "7b0c764b",
   "metadata": {
    "execution": {
     "iopub.execute_input": "2022-05-12T21:14:41.214915Z",
     "iopub.status.busy": "2022-05-12T21:14:41.214171Z",
     "iopub.status.idle": "2022-05-12T21:14:43.424724Z",
     "shell.execute_reply": "2022-05-12T21:14:43.423762Z",
     "shell.execute_reply.started": "2022-05-12T21:14:41.214877Z"
    },
    "lang": "en"
   },
   "outputs": [
    {
     "name": "stdout",
     "output_type": "stream",
     "text": [
      "Accuracy of the network on the 10000 test images: 98.94 %\n"
     ]
    }
   ],
   "source": [
    "correct = 0 # Define the number of correctly predicted images, initialized to 0\n",
    "total = 0 # The total number of pictures participating in the test, also initialized to 0\n",
    "# testloader = torch.utils.data.DataLoader(testset, batch_size=32,shuffle=True, num_workers=2)\n",
    "net.eval()\n",
    "with torch.no_grad():\n",
    "    for data in testloader: # Loop through each batch\n",
    "        images, labels = data\n",
    "        images = images.to(device)\n",
    "        labels = labels.to(device)\n",
    "        net.eval() # Convert the model to test mode\n",
    "        if hasattr(torch.cuda, 'empty_cache'):\n",
    "                torch.cuda.empty_cache()\n",
    "        outputs = net(images) # Enter the network for testing\n",
    "\n",
    "        # outputs.data is a 4x10 tensor. The value and sequence number of the largest column of each row are formed into a one-dimensional tensor to return, the first is the value tensor, and the second is the sequence number tensor.\n",
    "        _, predicted = torch.max(outputs.data, 1)\n",
    "        total += labels.size(0) # update the number of test images\n",
    "        correct += (predicted == labels).sum() # update the number of correctly classified images\n",
    "\n",
    "print('Accuracy of the network on the 10000 test images: %.2f %%' % (100 * correct / total))"
   ]
  },
  {
   "cell_type": "code",
   "execution_count": 33,
   "id": "1aa1cd86",
   "metadata": {
    "execution": {
     "iopub.execute_input": "2022-05-12T21:14:58.981762Z",
     "iopub.status.busy": "2022-05-12T21:14:58.981191Z",
     "iopub.status.idle": "2022-05-12T21:15:01.632897Z",
     "shell.execute_reply": "2022-05-12T21:15:01.632116Z",
     "shell.execute_reply.started": "2022-05-12T21:14:58.981731Z"
    },
    "lang": "en"
   },
   "outputs": [
    {
     "name": "stdout",
     "output_type": "stream",
     "text": [
      "Accuracy of 0 - zero : 100.00 %\n",
      "Accuracy of 1 - one : 99.82 %\n",
      "Accuracy of 2 - two : 99.22 %\n",
      "Accuracy of 3 - three : 99.31 %\n",
      "Accuracy of 4 - four : 98.98 %\n",
      "Accuracy of 5 - five : 97.20 %\n",
      "Accuracy of 6 - six : 98.12 %\n",
      "Accuracy of 7 - seven : 97.47 %\n",
      "Accuracy of 8 - eight : 99.28 %\n",
      "Accuracy of 9 - nine : 99.21 %\n"
     ]
    }
   ],
   "source": [
    "# Define 2 lists that store the number of correct tests in each class, initialized to 0\n",
    "class_correct = list(0.for i in range(10))\n",
    "class_total = list(0.for i in range(10))\n",
    "# testloader = torch.utils.data.DataLoader(testset, batch_size=64,shuffle=True, num_workers=2)\n",
    "net.eval()\n",
    "with torch.no_grad():\n",
    "    for data in testloader:\n",
    "        images, labels = data\n",
    "        images = images.to(device)\n",
    "        labels = labels.to(device)\n",
    "        if hasattr(torch.cuda, 'empty_cache'):\n",
    "            torch.cuda.empty_cache()\n",
    "        outputs = net(images)\n",
    "        _, predicted = torch.max(outputs.data, 1)\n",
    "    #4 group (batch_size) data, output in the same label, marked as 1, otherwise 0\n",
    "        c = (predicted == labels).squeeze()\n",
    "        for i in range(len(images)): # Because each batch has 4 images, a small loop of 4 is needed\n",
    "            label = labels[i] # Accumulate each class separately\n",
    "            class_correct[label] += c[i]\n",
    "            class_total[label] += 1\n",
    " \n",
    " \n",
    "for i in range(10):\n",
    "    print('Accuracy of %5s : %.2f %%' % (classes[i], 100 * class_correct[i] / class_total[i]))"
   ]
  },
  {
   "cell_type": "code",
   "execution_count": 34,
   "id": "7a7ee677",
   "metadata": {
    "execution": {
     "iopub.execute_input": "2022-05-12T21:15:01.634874Z",
     "iopub.status.busy": "2022-05-12T21:15:01.634645Z",
     "iopub.status.idle": "2022-05-12T21:15:02.684118Z",
     "shell.execute_reply": "2022-05-12T21:15:02.683428Z",
     "shell.execute_reply.started": "2022-05-12T21:15:01.634849Z"
    }
   },
   "outputs": [
    {
     "name": "stdout",
     "output_type": "stream",
     "text": [
      "Accuracy Rate = 100.0%\n"
     ]
    },
    {
     "data": {
      "text/plain": [
       "<Figure size 1800x288 with 0 Axes>"
      ]
     },
     "metadata": {},
     "output_type": "display_data"
    },
    {
     "data": {
      "image/png": "[encoded data removed]",
      "text/plain": [
       "<Figure size 1800x1800 with 32 Axes>"
      ]
     },
     "metadata": {},
     "output_type": "display_data"
    }
   ],
   "source": [
    "dataiter = iter(testloader)\n",
    "images, labels = dataiter.next()\n",
    "images_ = images\n",
    "#images_ = images_.view(images.shape[0], -1)\n",
    "images_ = images_.to(device)\n",
    "labels = labels.to(device)\n",
    "val_output = net(images_)\n",
    "_, val_preds = torch.max(val_output, 1)\n",
    "\n",
    "fig = plt.figure(figsize=(25,4))\n",
    "\n",
    "correct = torch.sum(val_preds == labels.data).item()\n",
    "\n",
    "print(\"Accuracy Rate = {}%\".format(correct/len(images) * 100))\n",
    "\n",
    "fig = plt.figure(figsize=(25,25))\n",
    "for idx in np.arange(32):    \n",
    "    ax = fig.add_subplot(8, 8, idx+1, xticks=[], yticks=[])\n",
    "    #fig.tight_layout()\n",
    "#     plt.imshow(im_convert(images[idx]))\n",
    "    imshow(images[idx])\n",
    "    ax.set_title(\"{}, ({})\".format(classes[val_preds[idx].item()], classes[labels[idx].item()]), \n",
    "                 color = (\"green\" if val_preds[idx].item()==labels[idx].item() else \"red\"))"
   ]
  },
  {
   "cell_type": "code",
   "execution_count": 35,
   "id": "d5434537-72a5-4b29-865b-af99bd8fa458",
   "metadata": {
    "execution": {
     "iopub.execute_input": "2022-05-12T21:15:03.293296Z",
     "iopub.status.busy": "2022-05-12T21:15:03.293006Z",
     "iopub.status.idle": "2022-05-12T21:15:06.118744Z",
     "shell.execute_reply": "2022-05-12T21:15:06.118132Z",
     "shell.execute_reply.started": "2022-05-12T21:15:03.293268Z"
    }
   },
   "outputs": [
    {
     "data": {
      "image/png": "[encoded data removed]",
      "text/plain": [
       "<Figure size 720x576 with 1 Axes>"
      ]
     },
     "metadata": {
      "needs_background": "light"
     },
     "output_type": "display_data"
    }
   ],
   "source": [
    "class_dict = {0: 'zero',\n",
    "              1: 'one',\n",
    "              2: 'two',\n",
    "              3: 'three',\n",
    "              4: 'four',\n",
    "              5: 'five',\n",
    "              6: 'six',\n",
    "              7: 'seven',\n",
    "              8: 'eight',\n",
    "              9: 'nine'}\n",
    "\n",
    "mat = compute_confusion_matrix(model=net, data_loader=testloader, device=torch.device('cpu'))\n",
    "plot_confusion_matrix(mat, class_names=class_dict.values())\n",
    "plt.show()"
   ]
  },
  {
   "cell_type": "code",
   "execution_count": 37,
   "id": "e53c4e2b-b5be-43d3-bfcf-1d8b22eebdd6",
   "metadata": {
    "execution": {
     "iopub.execute_input": "2022-05-12T21:15:32.460081Z",
     "iopub.status.busy": "2022-05-12T21:15:32.459333Z",
     "iopub.status.idle": "2022-05-12T21:15:33.482198Z",
     "shell.execute_reply": "2022-05-12T21:15:33.481335Z",
     "shell.execute_reply.started": "2022-05-12T21:15:32.460044Z"
    }
   },
   "outputs": [
    {
     "data": {
      "image/png": "[encoded data removed]",
      "text/plain": [
       "<Figure size 720x576 with 15 Axes>"
      ]
     },
     "metadata": {
      "needs_background": "light"
     },
     "output_type": "display_data"
    }
   ],
   "source": [
    "unnormalizer = UnNormalize((0.5, 0.5, 0.5), (0.5, 0.5, 0.5))\n",
    "\n",
    "show_examples(model=net.to('cuda'), data_loader=testloader, unnormalizer=unnormalizer, class_dict=class_dict)"
   ]
  },
  {
   "cell_type": "markdown",
   "id": "22e42426",
   "metadata": {},
   "source": [
    "\n",
    "### 8. Save the model\n"
   ]
  },
  {
   "cell_type": "code",
   "execution_count": 38,
   "id": "3e847551",
   "metadata": {
    "execution": {
     "iopub.execute_input": "2022-05-12T21:15:36.258656Z",
     "iopub.status.busy": "2022-05-12T21:15:36.257894Z",
     "iopub.status.idle": "2022-05-12T21:15:37.300129Z",
     "shell.execute_reply": "2022-05-12T21:15:37.299422Z",
     "shell.execute_reply.started": "2022-05-12T21:15:36.258617Z"
    }
   },
   "outputs": [],
   "source": [
    "torch.save(net,save_path[:-4]+str(epoch)+'.pth')\n",
    "# torch.save(net, './model/GoogLeNet-256.pth')"
   ]
  },
  {
   "cell_type": "code",
   "execution_count": 42,
   "id": "d8e51cd3-eeae-4da5-a911-6ef1abb37813",
   "metadata": {
    "execution": {
     "iopub.execute_input": "2022-05-12T21:16:35.039984Z",
     "iopub.status.busy": "2022-05-12T21:16:35.039738Z",
     "iopub.status.idle": "2022-05-12T21:16:35.045793Z",
     "shell.execute_reply": "2022-05-12T21:16:35.045265Z",
     "shell.execute_reply.started": "2022-05-12T21:16:35.039960Z"
    }
   },
   "outputs": [],
   "source": [
    "train_loss, test_loss = Loss['train_loss'], Loss['test_loss']\n",
    "train_acc, test_acc = Acc['train_acc'], Acc['test_acc']\n",
    "train_loss = [float(i) for i in train_loss]\n",
    "test_loss = [float(i) for i in test_loss]\n",
    "train_acc = [float(i) for i in train_acc]\n",
    "test_acc = [float(i) for i in test_acc]\n",
    "Acc['train_acc'] = train_acc\n",
    "Acc['test_acc'] = test_acc\n",
    "Loss['train_loss'] = train_loss\n",
    "Loss['test_loss'] = test_loss"
   ]
  },
  {
   "cell_type": "code",
   "execution_count": 43,
   "id": "cf44b283-8963-41c7-825e-8a9d26d5eff8",
   "metadata": {
    "execution": {
     "iopub.execute_input": "2022-05-12T21:16:35.644876Z",
     "iopub.status.busy": "2022-05-12T21:16:35.644237Z",
     "iopub.status.idle": "2022-05-12T21:16:35.649592Z",
     "shell.execute_reply": "2022-05-12T21:16:35.649022Z",
     "shell.execute_reply.started": "2022-05-12T21:16:35.644840Z"
    }
   },
   "outputs": [
    {
     "data": {
      "text/plain": [
       "{'train_acc': [90.66497802734375,\n",
       "  97.33475494384766,\n",
       "  98.05937194824219,\n",
       "  98.46248626708984,\n",
       "  98.63406372070312,\n",
       "  98.78897857666016,\n",
       "  98.92890930175781,\n",
       "  99.00553131103516,\n",
       "  99.03218841552734,\n",
       "  99.06549835205078,\n",
       "  99.0455093383789,\n",
       "  99.1821060180664,\n",
       "  99.14212799072266,\n",
       "  99.21708679199219,\n",
       "  99.26372528076172,\n",
       "  99.30037689208984,\n",
       "  99.18544006347656,\n",
       "  99.17544555664062,\n",
       "  99.28538513183594,\n",
       "  99.18544006347656],\n",
       " 'test_acc': [97.48208618164062,\n",
       "  98.3280258178711,\n",
       "  97.86027526855469,\n",
       "  98.33798217773438,\n",
       "  98.65644836425781,\n",
       "  98.81568908691406,\n",
       "  98.93511199951172,\n",
       "  98.82563781738281,\n",
       "  98.82563781738281,\n",
       "  98.7161636352539,\n",
       "  98.77587890625,\n",
       "  98.78582763671875,\n",
       "  99.00477600097656,\n",
       "  98.93511199951172,\n",
       "  98.67635345458984,\n",
       "  98.82563781738281,\n",
       "  98.92516326904297,\n",
       "  98.65644836425781,\n",
       "  98.68630981445312,\n",
       "  98.92516326904297]}"
      ]
     },
     "execution_count": 43,
     "metadata": {},
     "output_type": "execute_result"
    }
   ],
   "source": [
    "Acc"
   ]
  },
  {
   "cell_type": "code",
   "execution_count": 44,
   "id": "832be9ae-db50-4162-8676-a9da2f2051d3",
   "metadata": {
    "execution": {
     "iopub.execute_input": "2022-05-12T21:16:40.382006Z",
     "iopub.status.busy": "2022-05-12T21:16:40.381316Z",
     "iopub.status.idle": "2022-05-12T21:16:40.386535Z",
     "shell.execute_reply": "2022-05-12T21:16:40.386031Z",
     "shell.execute_reply.started": "2022-05-12T21:16:40.381970Z"
    }
   },
   "outputs": [
    {
     "data": {
      "text/plain": [
       "{'train_loss': [0.9385256767272949,\n",
       "  0.20573855936527252,\n",
       "  0.1398521214723587,\n",
       "  0.11149566620588303,\n",
       "  0.0981217548251152,\n",
       "  0.08696004748344421,\n",
       "  0.07897580415010452,\n",
       "  0.07351101189851761,\n",
       "  0.07098876684904099,\n",
       "  0.06452731043100357,\n",
       "  0.06789594888687134,\n",
       "  0.059059154242277145,\n",
       "  0.06268669664859772,\n",
       "  0.05834437161684036,\n",
       "  0.05593537911772728,\n",
       "  0.05441141128540039,\n",
       "  0.05892414599657059,\n",
       "  0.05996502935886383,\n",
       "  0.054986290633678436,\n",
       "  0.05942457169294357],\n",
       " 'test_loss': [0.08128507435321808,\n",
       "  0.05661066621541977,\n",
       "  0.06422308087348938,\n",
       "  0.05470984801650047,\n",
       "  0.04167875275015831,\n",
       "  0.036209285259246826,\n",
       "  0.03337438032031059,\n",
       "  0.03796488046646118,\n",
       "  0.0395667664706707,\n",
       "  0.043259650468826294,\n",
       "  0.041263241320848465,\n",
       "  0.04169103503227234,\n",
       "  0.0353732593357563,\n",
       "  0.033066462725400925,\n",
       "  0.046810444444417953,\n",
       "  0.04113748297095299,\n",
       "  0.03838903829455376,\n",
       "  0.044950347393751144,\n",
       "  0.04464593157172203,\n",
       "  0.042206645011901855]}"
      ]
     },
     "execution_count": 44,
     "metadata": {},
     "output_type": "execute_result"
    }
   ],
   "source": [
    "Loss"
   ]
  },
  {
   "cell_type": "code",
   "execution_count": null,
   "id": "652c62cd-bedd-4d35-82b8-a2e3f08849a1",
   "metadata": {},
   "outputs": [],
   "source": []
  }
 ],
 "metadata": {
  "kernelspec": {
   "display_name": "Python 3 (ipykernel)",
   "language": "python",
   "name": "python3"
  },
  "language_info": {
   "codemirror_mode": {
    "name": "ipython",
    "version": 3
   },
   "file_extension": ".py",
   "mimetype": "text/x-python",
   "name": "python",
   "nbconvert_exporter": "python",
   "pygments_lexer": "ipython3",
   "version": "3.9.7"
  },
  "latex_envs": {
   "LaTeX_envs_menu_present": true,
   "autoclose": false,
   "autocomplete": true,
   "bibliofile": "biblio.bib",
   "cite_by": "apalike",
   "current_citInitial": 1,
   "eqLabelWithNumbers": true,
   "eqNumInitial": 1,
   "hotkeys": {
    "equation": "Ctrl-E",
    "itemize": "Ctrl-I"
   },
   "labels_anchors": false,
   "latex_user_defs": false,
   "report_style_numbering": false,
   "user_envs_cfg": false
  },
  "nbTranslate": {
   "displayLangs": [],
   "hotkey": "alt-t",
   "langInMainMenu": true,
   "sourceLang": "zh-cn",
   "targetLang": "en",
   "useGoogleTranslate": true
  }
 },
 "nbformat": 4,
 "nbformat_minor": 5
}
